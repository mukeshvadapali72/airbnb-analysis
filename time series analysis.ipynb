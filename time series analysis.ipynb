{
 "cells": [
  {
   "cell_type": "code",
   "execution_count": 1,
   "metadata": {},
   "outputs": [],
   "source": [
    "import pandas as pd\n",
    "import numpy as np\n",
    "import matplotlib.pyplot as plt"
   ]
  },
  {
   "cell_type": "code",
   "execution_count": null,
   "metadata": {},
   "outputs": [],
   "source": []
  },
  {
   "cell_type": "code",
   "execution_count": 2,
   "metadata": {},
   "outputs": [],
   "source": [
    "df = pd.read_csv('listings (`aNYC).csv')"
   ]
  },
  {
   "cell_type": "code",
   "execution_count": 3,
   "metadata": {},
   "outputs": [
    {
     "data": {
      "text/html": [
       "<div>\n",
       "<style scoped>\n",
       "    .dataframe tbody tr th:only-of-type {\n",
       "        vertical-align: middle;\n",
       "    }\n",
       "\n",
       "    .dataframe tbody tr th {\n",
       "        vertical-align: top;\n",
       "    }\n",
       "\n",
       "    .dataframe thead th {\n",
       "        text-align: right;\n",
       "    }\n",
       "</style>\n",
       "<table border=\"1\" class=\"dataframe\">\n",
       "  <thead>\n",
       "    <tr style=\"text-align: right;\">\n",
       "      <th></th>\n",
       "      <th>id</th>\n",
       "      <th>listing_url</th>\n",
       "      <th>scrape_id</th>\n",
       "      <th>last_scraped</th>\n",
       "      <th>name</th>\n",
       "      <th>description</th>\n",
       "      <th>neighborhood_overview</th>\n",
       "      <th>picture_url</th>\n",
       "      <th>host_id</th>\n",
       "      <th>host_url</th>\n",
       "      <th>...</th>\n",
       "      <th>review_scores_location</th>\n",
       "      <th>review_scores_value</th>\n",
       "      <th>license</th>\n",
       "      <th>instant_bookable</th>\n",
       "      <th>calculated_host_listings_count</th>\n",
       "      <th>calculated_host_listings_count_entire_homes</th>\n",
       "      <th>calculated_host_listings_count_private_rooms</th>\n",
       "      <th>calculated_host_listings_count_shared_rooms</th>\n",
       "      <th>reviews_per_month</th>\n",
       "      <th>City Name</th>\n",
       "    </tr>\n",
       "  </thead>\n",
       "  <tbody>\n",
       "    <tr>\n",
       "      <th>0</th>\n",
       "      <td>2595</td>\n",
       "      <td>https://www.airbnb.com/rooms/2595</td>\n",
       "      <td>2.020000e+13</td>\n",
       "      <td>08/09/2020</td>\n",
       "      <td>Skylit Midtown Castle</td>\n",
       "      <td>Beautiful, spacious skylit studio in the heart...</td>\n",
       "      <td>Centrally located in the heart of Manhattan ju...</td>\n",
       "      <td>https://a0.muscache.com/pictures/f0813a11-40b2...</td>\n",
       "      <td>2845</td>\n",
       "      <td>https://www.airbnb.com/users/show/2845</td>\n",
       "      <td>...</td>\n",
       "      <td>10.0</td>\n",
       "      <td>9.0</td>\n",
       "      <td>NaN</td>\n",
       "      <td>f</td>\n",
       "      <td>2</td>\n",
       "      <td>2</td>\n",
       "      <td>0</td>\n",
       "      <td>0</td>\n",
       "      <td>0.37</td>\n",
       "      <td>NYC</td>\n",
       "    </tr>\n",
       "    <tr>\n",
       "      <th>1</th>\n",
       "      <td>3831</td>\n",
       "      <td>https://www.airbnb.com/rooms/3831</td>\n",
       "      <td>2.020000e+13</td>\n",
       "      <td>08/09/2020</td>\n",
       "      <td>Whole flr w/private bdrm, bath &amp; kitchen(pls r...</td>\n",
       "      <td>Enjoy 500 s.f. top floor in 1899 brownstone, w...</td>\n",
       "      <td>Just the right mix of urban center and local n...</td>\n",
       "      <td>https://a0.muscache.com/pictures/e49999c2-9fd5...</td>\n",
       "      <td>4869</td>\n",
       "      <td>https://www.airbnb.com/users/show/4869</td>\n",
       "      <td>...</td>\n",
       "      <td>9.0</td>\n",
       "      <td>9.0</td>\n",
       "      <td>NaN</td>\n",
       "      <td>f</td>\n",
       "      <td>1</td>\n",
       "      <td>1</td>\n",
       "      <td>0</td>\n",
       "      <td>0</td>\n",
       "      <td>4.82</td>\n",
       "      <td>NYC</td>\n",
       "    </tr>\n",
       "    <tr>\n",
       "      <th>2</th>\n",
       "      <td>5121</td>\n",
       "      <td>https://www.airbnb.com/rooms/5121</td>\n",
       "      <td>2.020000e+13</td>\n",
       "      <td>08/09/2020</td>\n",
       "      <td>BlissArtsSpace!</td>\n",
       "      <td>&lt;b&gt;The space&lt;/b&gt;&lt;br /&gt;HELLO EVERYONE AND THANK...</td>\n",
       "      <td>NaN</td>\n",
       "      <td>https://a0.muscache.com/pictures/2090980c-b68e...</td>\n",
       "      <td>7356</td>\n",
       "      <td>https://www.airbnb.com/users/show/7356</td>\n",
       "      <td>...</td>\n",
       "      <td>9.0</td>\n",
       "      <td>9.0</td>\n",
       "      <td>NaN</td>\n",
       "      <td>f</td>\n",
       "      <td>1</td>\n",
       "      <td>0</td>\n",
       "      <td>1</td>\n",
       "      <td>0</td>\n",
       "      <td>0.36</td>\n",
       "      <td>NYC</td>\n",
       "    </tr>\n",
       "    <tr>\n",
       "      <th>3</th>\n",
       "      <td>5136</td>\n",
       "      <td>https://www.airbnb.com/rooms/5136</td>\n",
       "      <td>2.020000e+13</td>\n",
       "      <td>09/09/2020</td>\n",
       "      <td>Spacious Brooklyn Duplex, Patio + Garden</td>\n",
       "      <td>We welcome you to stay in our lovely 2 br dupl...</td>\n",
       "      <td>NaN</td>\n",
       "      <td>https://a0.muscache.com/pictures/a3f7ace8-e7a9...</td>\n",
       "      <td>7378</td>\n",
       "      <td>https://www.airbnb.com/users/show/7378</td>\n",
       "      <td>...</td>\n",
       "      <td>8.0</td>\n",
       "      <td>10.0</td>\n",
       "      <td>NaN</td>\n",
       "      <td>f</td>\n",
       "      <td>1</td>\n",
       "      <td>1</td>\n",
       "      <td>0</td>\n",
       "      <td>0</td>\n",
       "      <td>0.01</td>\n",
       "      <td>NYC</td>\n",
       "    </tr>\n",
       "    <tr>\n",
       "      <th>4</th>\n",
       "      <td>5178</td>\n",
       "      <td>https://www.airbnb.com/rooms/5178</td>\n",
       "      <td>2.020000e+13</td>\n",
       "      <td>08/09/2020</td>\n",
       "      <td>Large Furnished Room Near B'way</td>\n",
       "      <td>Please don’t expect the luxury here just a bas...</td>\n",
       "      <td>Theater district, many restaurants around here.</td>\n",
       "      <td>https://a0.muscache.com/pictures/12065/f070997...</td>\n",
       "      <td>8967</td>\n",
       "      <td>https://www.airbnb.com/users/show/8967</td>\n",
       "      <td>...</td>\n",
       "      <td>10.0</td>\n",
       "      <td>9.0</td>\n",
       "      <td>NaN</td>\n",
       "      <td>f</td>\n",
       "      <td>1</td>\n",
       "      <td>0</td>\n",
       "      <td>1</td>\n",
       "      <td>0</td>\n",
       "      <td>3.42</td>\n",
       "      <td>NYC</td>\n",
       "    </tr>\n",
       "  </tbody>\n",
       "</table>\n",
       "<p>5 rows × 75 columns</p>\n",
       "</div>"
      ],
      "text/plain": [
       "     id                        listing_url     scrape_id last_scraped  \\\n",
       "0  2595  https://www.airbnb.com/rooms/2595  2.020000e+13   08/09/2020   \n",
       "1  3831  https://www.airbnb.com/rooms/3831  2.020000e+13   08/09/2020   \n",
       "2  5121  https://www.airbnb.com/rooms/5121  2.020000e+13   08/09/2020   \n",
       "3  5136  https://www.airbnb.com/rooms/5136  2.020000e+13   09/09/2020   \n",
       "4  5178  https://www.airbnb.com/rooms/5178  2.020000e+13   08/09/2020   \n",
       "\n",
       "                                                name  \\\n",
       "0                              Skylit Midtown Castle   \n",
       "1  Whole flr w/private bdrm, bath & kitchen(pls r...   \n",
       "2                                    BlissArtsSpace!   \n",
       "3           Spacious Brooklyn Duplex, Patio + Garden   \n",
       "4                   Large Furnished Room Near B'way　   \n",
       "\n",
       "                                         description  \\\n",
       "0  Beautiful, spacious skylit studio in the heart...   \n",
       "1  Enjoy 500 s.f. top floor in 1899 brownstone, w...   \n",
       "2  <b>The space</b><br />HELLO EVERYONE AND THANK...   \n",
       "3  We welcome you to stay in our lovely 2 br dupl...   \n",
       "4  Please don’t expect the luxury here just a bas...   \n",
       "\n",
       "                               neighborhood_overview  \\\n",
       "0  Centrally located in the heart of Manhattan ju...   \n",
       "1  Just the right mix of urban center and local n...   \n",
       "2                                                NaN   \n",
       "3                                                NaN   \n",
       "4    Theater district, many restaurants around here.   \n",
       "\n",
       "                                         picture_url  host_id  \\\n",
       "0  https://a0.muscache.com/pictures/f0813a11-40b2...     2845   \n",
       "1  https://a0.muscache.com/pictures/e49999c2-9fd5...     4869   \n",
       "2  https://a0.muscache.com/pictures/2090980c-b68e...     7356   \n",
       "3  https://a0.muscache.com/pictures/a3f7ace8-e7a9...     7378   \n",
       "4  https://a0.muscache.com/pictures/12065/f070997...     8967   \n",
       "\n",
       "                                 host_url  ... review_scores_location  \\\n",
       "0  https://www.airbnb.com/users/show/2845  ...                   10.0   \n",
       "1  https://www.airbnb.com/users/show/4869  ...                    9.0   \n",
       "2  https://www.airbnb.com/users/show/7356  ...                    9.0   \n",
       "3  https://www.airbnb.com/users/show/7378  ...                    8.0   \n",
       "4  https://www.airbnb.com/users/show/8967  ...                   10.0   \n",
       "\n",
       "  review_scores_value license instant_bookable calculated_host_listings_count  \\\n",
       "0                 9.0     NaN                f                              2   \n",
       "1                 9.0     NaN                f                              1   \n",
       "2                 9.0     NaN                f                              1   \n",
       "3                10.0     NaN                f                              1   \n",
       "4                 9.0     NaN                f                              1   \n",
       "\n",
       "  calculated_host_listings_count_entire_homes  \\\n",
       "0                                           2   \n",
       "1                                           1   \n",
       "2                                           0   \n",
       "3                                           1   \n",
       "4                                           0   \n",
       "\n",
       "  calculated_host_listings_count_private_rooms  \\\n",
       "0                                            0   \n",
       "1                                            0   \n",
       "2                                            1   \n",
       "3                                            0   \n",
       "4                                            1   \n",
       "\n",
       "  calculated_host_listings_count_shared_rooms reviews_per_month City Name  \n",
       "0                                           0              0.37       NYC  \n",
       "1                                           0              4.82       NYC  \n",
       "2                                           0              0.36       NYC  \n",
       "3                                           0              0.01       NYC  \n",
       "4                                           0              3.42       NYC  \n",
       "\n",
       "[5 rows x 75 columns]"
      ]
     },
     "execution_count": 3,
     "metadata": {},
     "output_type": "execute_result"
    }
   ],
   "source": [
    "df.head()"
   ]
  },
  {
   "cell_type": "markdown",
   "metadata": {},
   "source": [
    "## To analyse if the listing demand in the city of New York since 2009 through the years so that seasonality can be understood. Also, to establish and investigate relationship between demand and price.\n",
    "## Answer if demand is one of the reasons for price fluctuation and if there is any correlation between dependent price factor and independent demand factor."
   ]
  },
  {
   "cell_type": "code",
   "execution_count": 4,
   "metadata": {},
   "outputs": [
    {
     "data": {
      "text/plain": [
       "(45756, 75)"
      ]
     },
     "execution_count": 4,
     "metadata": {},
     "output_type": "execute_result"
    }
   ],
   "source": [
    "df.shape"
   ]
  },
  {
   "cell_type": "code",
   "execution_count": 5,
   "metadata": {},
   "outputs": [
    {
     "data": {
      "text/plain": [
       "id                                                int64\n",
       "listing_url                                      object\n",
       "scrape_id                                       float64\n",
       "last_scraped                                     object\n",
       "name                                             object\n",
       "                                                 ...   \n",
       "calculated_host_listings_count_entire_homes       int64\n",
       "calculated_host_listings_count_private_rooms      int64\n",
       "calculated_host_listings_count_shared_rooms       int64\n",
       "reviews_per_month                               float64\n",
       "City Name                                        object\n",
       "Length: 75, dtype: object"
      ]
     },
     "execution_count": 5,
     "metadata": {},
     "output_type": "execute_result"
    }
   ],
   "source": [
    "df.dtypes"
   ]
  },
  {
   "cell_type": "markdown",
   "metadata": {},
   "source": [
    "\n",
    "\n",
    "## How many listings were made in time interval?\n",
    "\n",
    "### Host Since (Column)"
   ]
  },
  {
   "cell_type": "code",
   "execution_count": 6,
   "metadata": {},
   "outputs": [
    {
     "data": {
      "text/plain": [
       "Index(['id', 'listing_url', 'scrape_id', 'last_scraped', 'name', 'description',\n",
       "       'neighborhood_overview', 'picture_url', 'host_id', 'host_url',\n",
       "       'host_name', 'host_since', 'host_location', 'host_about',\n",
       "       'host_response_time', 'host_response_rate', 'host_acceptance_rate',\n",
       "       'host_is_superhost', 'host_thumbnail_url', 'host_picture_url',\n",
       "       'host_neighbourhood', 'host_listings_count',\n",
       "       'host_total_listings_count', 'host_verifications',\n",
       "       'host_has_profile_pic', 'host_identity_verified', 'neighbourhood',\n",
       "       'neighbourhood_cleansed', 'neighbourhood_group_cleansed', 'latitude',\n",
       "       'longitude', 'property_type', 'room_type', 'accommodates', 'bathrooms',\n",
       "       'bathrooms_text', 'bedrooms', 'beds', 'amenities', 'price',\n",
       "       'minimum_nights', 'maximum_nights', 'minimum_minimum_nights',\n",
       "       'maximum_minimum_nights', 'minimum_maximum_nights',\n",
       "       'maximum_maximum_nights', 'minimum_nights_avg_ntm',\n",
       "       'maximum_nights_avg_ntm', 'calendar_updated', 'has_availability',\n",
       "       'availability_30', 'availability_60', 'availability_90',\n",
       "       'availability_365', 'calendar_last_scraped', 'number_of_reviews',\n",
       "       'number_of_reviews_ltm', 'number_of_reviews_l30d', 'first_review',\n",
       "       'last_review', 'review_scores_rating', 'review_scores_accuracy',\n",
       "       'review_scores_cleanliness', 'review_scores_checkin',\n",
       "       'review_scores_communication', 'review_scores_location',\n",
       "       'review_scores_value', 'license', 'instant_bookable',\n",
       "       'calculated_host_listings_count',\n",
       "       'calculated_host_listings_count_entire_homes',\n",
       "       'calculated_host_listings_count_private_rooms',\n",
       "       'calculated_host_listings_count_shared_rooms', 'reviews_per_month',\n",
       "       'City Name'],\n",
       "      dtype='object')"
      ]
     },
     "execution_count": 6,
     "metadata": {},
     "output_type": "execute_result"
    }
   ],
   "source": [
    "df.columns"
   ]
  },
  {
   "cell_type": "code",
   "execution_count": 7,
   "metadata": {},
   "outputs": [],
   "source": [
    "seas =df[['host_since','host_location','price','room_type','bedrooms','host_listings_count','host_total_listings_count','host_verifications']]"
   ]
  },
  {
   "cell_type": "code",
   "execution_count": 8,
   "metadata": {},
   "outputs": [
    {
     "data": {
      "text/html": [
       "<div>\n",
       "<style scoped>\n",
       "    .dataframe tbody tr th:only-of-type {\n",
       "        vertical-align: middle;\n",
       "    }\n",
       "\n",
       "    .dataframe tbody tr th {\n",
       "        vertical-align: top;\n",
       "    }\n",
       "\n",
       "    .dataframe thead th {\n",
       "        text-align: right;\n",
       "    }\n",
       "</style>\n",
       "<table border=\"1\" class=\"dataframe\">\n",
       "  <thead>\n",
       "    <tr style=\"text-align: right;\">\n",
       "      <th></th>\n",
       "      <th>host_since</th>\n",
       "      <th>host_location</th>\n",
       "      <th>price</th>\n",
       "      <th>room_type</th>\n",
       "      <th>bedrooms</th>\n",
       "      <th>host_listings_count</th>\n",
       "      <th>host_total_listings_count</th>\n",
       "      <th>host_verifications</th>\n",
       "    </tr>\n",
       "  </thead>\n",
       "  <tbody>\n",
       "    <tr>\n",
       "      <th>0</th>\n",
       "      <td>09/09/2008</td>\n",
       "      <td>New York, New York, United States</td>\n",
       "      <td>$175.00</td>\n",
       "      <td>Entire home/apt</td>\n",
       "      <td>NaN</td>\n",
       "      <td>6.0</td>\n",
       "      <td>6.0</td>\n",
       "      <td>['email', 'phone', 'reviews', 'offline_governm...</td>\n",
       "    </tr>\n",
       "    <tr>\n",
       "      <th>1</th>\n",
       "      <td>07/12/2008</td>\n",
       "      <td>New York, New York, United States</td>\n",
       "      <td>$76.00</td>\n",
       "      <td>Entire home/apt</td>\n",
       "      <td>1.0</td>\n",
       "      <td>1.0</td>\n",
       "      <td>1.0</td>\n",
       "      <td>['email', 'phone', 'reviews', 'offline_governm...</td>\n",
       "    </tr>\n",
       "    <tr>\n",
       "      <th>2</th>\n",
       "      <td>03/02/2009</td>\n",
       "      <td>New York, New York, United States</td>\n",
       "      <td>$60.00</td>\n",
       "      <td>Private room</td>\n",
       "      <td>1.0</td>\n",
       "      <td>1.0</td>\n",
       "      <td>1.0</td>\n",
       "      <td>['email', 'phone', 'facebook', 'reviews', 'off...</td>\n",
       "    </tr>\n",
       "    <tr>\n",
       "      <th>3</th>\n",
       "      <td>03/02/2009</td>\n",
       "      <td>New York, New York, United States</td>\n",
       "      <td>$175.00</td>\n",
       "      <td>Entire home/apt</td>\n",
       "      <td>2.0</td>\n",
       "      <td>1.0</td>\n",
       "      <td>1.0</td>\n",
       "      <td>['email', 'phone', 'reviews']</td>\n",
       "    </tr>\n",
       "    <tr>\n",
       "      <th>4</th>\n",
       "      <td>03/03/2009</td>\n",
       "      <td>New York, New York, United States</td>\n",
       "      <td>$79.00</td>\n",
       "      <td>Private room</td>\n",
       "      <td>1.0</td>\n",
       "      <td>1.0</td>\n",
       "      <td>1.0</td>\n",
       "      <td>['email', 'phone', 'facebook', 'reviews']</td>\n",
       "    </tr>\n",
       "  </tbody>\n",
       "</table>\n",
       "</div>"
      ],
      "text/plain": [
       "   host_since                      host_location    price        room_type  \\\n",
       "0  09/09/2008  New York, New York, United States  $175.00  Entire home/apt   \n",
       "1  07/12/2008  New York, New York, United States   $76.00  Entire home/apt   \n",
       "2  03/02/2009  New York, New York, United States   $60.00     Private room   \n",
       "3  03/02/2009  New York, New York, United States  $175.00  Entire home/apt   \n",
       "4  03/03/2009  New York, New York, United States   $79.00     Private room   \n",
       "\n",
       "   bedrooms  host_listings_count  host_total_listings_count  \\\n",
       "0       NaN                  6.0                        6.0   \n",
       "1       1.0                  1.0                        1.0   \n",
       "2       1.0                  1.0                        1.0   \n",
       "3       2.0                  1.0                        1.0   \n",
       "4       1.0                  1.0                        1.0   \n",
       "\n",
       "                                  host_verifications  \n",
       "0  ['email', 'phone', 'reviews', 'offline_governm...  \n",
       "1  ['email', 'phone', 'reviews', 'offline_governm...  \n",
       "2  ['email', 'phone', 'facebook', 'reviews', 'off...  \n",
       "3                      ['email', 'phone', 'reviews']  \n",
       "4          ['email', 'phone', 'facebook', 'reviews']  "
      ]
     },
     "execution_count": 8,
     "metadata": {},
     "output_type": "execute_result"
    }
   ],
   "source": [
    "seas.head()"
   ]
  },
  {
   "cell_type": "code",
   "execution_count": 9,
   "metadata": {},
   "outputs": [
    {
     "data": {
      "text/plain": [
       "host_since                    object\n",
       "host_location                 object\n",
       "price                         object\n",
       "room_type                     object\n",
       "bedrooms                     float64\n",
       "host_listings_count          float64\n",
       "host_total_listings_count    float64\n",
       "host_verifications            object\n",
       "dtype: object"
      ]
     },
     "execution_count": 9,
     "metadata": {},
     "output_type": "execute_result"
    }
   ],
   "source": [
    "seas.dtypes"
   ]
  },
  {
   "cell_type": "code",
   "execution_count": 10,
   "metadata": {},
   "outputs": [
    {
     "data": {
      "text/plain": [
       "(45756, 8)"
      ]
     },
     "execution_count": 10,
     "metadata": {},
     "output_type": "execute_result"
    }
   ],
   "source": [
    "seas.shape"
   ]
  },
  {
   "cell_type": "markdown",
   "metadata": {},
   "source": [
    "## Extracting null values"
   ]
  },
  {
   "cell_type": "code",
   "execution_count": 11,
   "metadata": {},
   "outputs": [
    {
     "data": {
      "text/plain": [
       "host_since                     14\n",
       "host_location                 139\n",
       "price                           0\n",
       "room_type                       0\n",
       "bedrooms                     4407\n",
       "host_listings_count            14\n",
       "host_total_listings_count      14\n",
       "host_verifications              0\n",
       "dtype: int64"
      ]
     },
     "execution_count": 11,
     "metadata": {},
     "output_type": "execute_result"
    }
   ],
   "source": [
    "seas.isnull().sum()"
   ]
  },
  {
   "cell_type": "markdown",
   "metadata": {},
   "source": [
    "## columns which has null values"
   ]
  },
  {
   "cell_type": "code",
   "execution_count": 13,
   "metadata": {},
   "outputs": [
    {
     "data": {
      "text/plain": [
       "['host_since',\n",
       " 'host_location',\n",
       " 'bedrooms',\n",
       " 'host_listings_count',\n",
       " 'host_total_listings_count']"
      ]
     },
     "execution_count": 13,
     "metadata": {},
     "output_type": "execute_result"
    }
   ],
   "source": [
    "vars_with_na = [var for var in seas.columns if seas[var].isnull().sum() > 0]\n",
    "vars_with_na"
   ]
  },
  {
   "cell_type": "code",
   "execution_count": 14,
   "metadata": {},
   "outputs": [],
   "source": [
    "seas=seas.dropna()"
   ]
  },
  {
   "cell_type": "code",
   "execution_count": 15,
   "metadata": {},
   "outputs": [
    {
     "data": {
      "text/html": [
       "<div>\n",
       "<style scoped>\n",
       "    .dataframe tbody tr th:only-of-type {\n",
       "        vertical-align: middle;\n",
       "    }\n",
       "\n",
       "    .dataframe tbody tr th {\n",
       "        vertical-align: top;\n",
       "    }\n",
       "\n",
       "    .dataframe thead th {\n",
       "        text-align: right;\n",
       "    }\n",
       "</style>\n",
       "<table border=\"1\" class=\"dataframe\">\n",
       "  <thead>\n",
       "    <tr style=\"text-align: right;\">\n",
       "      <th></th>\n",
       "      <th>host_since</th>\n",
       "      <th>host_location</th>\n",
       "      <th>price</th>\n",
       "      <th>room_type</th>\n",
       "      <th>bedrooms</th>\n",
       "      <th>host_listings_count</th>\n",
       "      <th>host_total_listings_count</th>\n",
       "      <th>host_verifications</th>\n",
       "    </tr>\n",
       "  </thead>\n",
       "  <tbody>\n",
       "    <tr>\n",
       "      <th>1</th>\n",
       "      <td>07/12/2008</td>\n",
       "      <td>New York, New York, United States</td>\n",
       "      <td>$76.00</td>\n",
       "      <td>Entire home/apt</td>\n",
       "      <td>1.0</td>\n",
       "      <td>1.0</td>\n",
       "      <td>1.0</td>\n",
       "      <td>['email', 'phone', 'reviews', 'offline_governm...</td>\n",
       "    </tr>\n",
       "    <tr>\n",
       "      <th>2</th>\n",
       "      <td>03/02/2009</td>\n",
       "      <td>New York, New York, United States</td>\n",
       "      <td>$60.00</td>\n",
       "      <td>Private room</td>\n",
       "      <td>1.0</td>\n",
       "      <td>1.0</td>\n",
       "      <td>1.0</td>\n",
       "      <td>['email', 'phone', 'facebook', 'reviews', 'off...</td>\n",
       "    </tr>\n",
       "    <tr>\n",
       "      <th>3</th>\n",
       "      <td>03/02/2009</td>\n",
       "      <td>New York, New York, United States</td>\n",
       "      <td>$175.00</td>\n",
       "      <td>Entire home/apt</td>\n",
       "      <td>2.0</td>\n",
       "      <td>1.0</td>\n",
       "      <td>1.0</td>\n",
       "      <td>['email', 'phone', 'reviews']</td>\n",
       "    </tr>\n",
       "    <tr>\n",
       "      <th>4</th>\n",
       "      <td>03/03/2009</td>\n",
       "      <td>New York, New York, United States</td>\n",
       "      <td>$79.00</td>\n",
       "      <td>Private room</td>\n",
       "      <td>1.0</td>\n",
       "      <td>1.0</td>\n",
       "      <td>1.0</td>\n",
       "      <td>['email', 'phone', 'facebook', 'reviews']</td>\n",
       "    </tr>\n",
       "    <tr>\n",
       "      <th>5</th>\n",
       "      <td>05/02/2009</td>\n",
       "      <td>New York, New York, United States</td>\n",
       "      <td>$75.00</td>\n",
       "      <td>Private room</td>\n",
       "      <td>1.0</td>\n",
       "      <td>1.0</td>\n",
       "      <td>1.0</td>\n",
       "      <td>['email', 'phone', 'facebook', 'google', 'revi...</td>\n",
       "    </tr>\n",
       "    <tr>\n",
       "      <th>...</th>\n",
       "      <td>...</td>\n",
       "      <td>...</td>\n",
       "      <td>...</td>\n",
       "      <td>...</td>\n",
       "      <td>...</td>\n",
       "      <td>...</td>\n",
       "      <td>...</td>\n",
       "      <td>...</td>\n",
       "    </tr>\n",
       "    <tr>\n",
       "      <th>45750</th>\n",
       "      <td>08/07/2015</td>\n",
       "      <td>Brooklyn, New York, United States</td>\n",
       "      <td>$55.00</td>\n",
       "      <td>Private room</td>\n",
       "      <td>1.0</td>\n",
       "      <td>1.0</td>\n",
       "      <td>1.0</td>\n",
       "      <td>['email', 'phone', 'facebook', 'reviews', 'kba...</td>\n",
       "    </tr>\n",
       "    <tr>\n",
       "      <th>45751</th>\n",
       "      <td>29/10/2019</td>\n",
       "      <td>US</td>\n",
       "      <td>$53.00</td>\n",
       "      <td>Private room</td>\n",
       "      <td>1.0</td>\n",
       "      <td>1.0</td>\n",
       "      <td>1.0</td>\n",
       "      <td>['email', 'phone', 'jumio', 'offline_governmen...</td>\n",
       "    </tr>\n",
       "    <tr>\n",
       "      <th>45752</th>\n",
       "      <td>26/06/2016</td>\n",
       "      <td>New York, New York, United States</td>\n",
       "      <td>$79.00</td>\n",
       "      <td>Private room</td>\n",
       "      <td>1.0</td>\n",
       "      <td>2.0</td>\n",
       "      <td>2.0</td>\n",
       "      <td>['email', 'phone', 'facebook', 'reviews', 'jum...</td>\n",
       "    </tr>\n",
       "    <tr>\n",
       "      <th>45753</th>\n",
       "      <td>29/10/2019</td>\n",
       "      <td>US</td>\n",
       "      <td>$70.00</td>\n",
       "      <td>Private room</td>\n",
       "      <td>1.0</td>\n",
       "      <td>1.0</td>\n",
       "      <td>1.0</td>\n",
       "      <td>['email', 'phone', 'jumio', 'offline_governmen...</td>\n",
       "    </tr>\n",
       "    <tr>\n",
       "      <th>45754</th>\n",
       "      <td>29/10/2019</td>\n",
       "      <td>US</td>\n",
       "      <td>$59.00</td>\n",
       "      <td>Private room</td>\n",
       "      <td>1.0</td>\n",
       "      <td>1.0</td>\n",
       "      <td>1.0</td>\n",
       "      <td>['email', 'phone', 'jumio', 'offline_governmen...</td>\n",
       "    </tr>\n",
       "  </tbody>\n",
       "</table>\n",
       "<p>41223 rows × 8 columns</p>\n",
       "</div>"
      ],
      "text/plain": [
       "       host_since                      host_location    price  \\\n",
       "1      07/12/2008  New York, New York, United States   $76.00   \n",
       "2      03/02/2009  New York, New York, United States   $60.00   \n",
       "3      03/02/2009  New York, New York, United States  $175.00   \n",
       "4      03/03/2009  New York, New York, United States   $79.00   \n",
       "5      05/02/2009  New York, New York, United States   $75.00   \n",
       "...           ...                                ...      ...   \n",
       "45750  08/07/2015  Brooklyn, New York, United States   $55.00   \n",
       "45751  29/10/2019                                 US   $53.00   \n",
       "45752  26/06/2016  New York, New York, United States   $79.00   \n",
       "45753  29/10/2019                                 US   $70.00   \n",
       "45754  29/10/2019                                 US   $59.00   \n",
       "\n",
       "             room_type  bedrooms  host_listings_count  \\\n",
       "1      Entire home/apt       1.0                  1.0   \n",
       "2         Private room       1.0                  1.0   \n",
       "3      Entire home/apt       2.0                  1.0   \n",
       "4         Private room       1.0                  1.0   \n",
       "5         Private room       1.0                  1.0   \n",
       "...                ...       ...                  ...   \n",
       "45750     Private room       1.0                  1.0   \n",
       "45751     Private room       1.0                  1.0   \n",
       "45752     Private room       1.0                  2.0   \n",
       "45753     Private room       1.0                  1.0   \n",
       "45754     Private room       1.0                  1.0   \n",
       "\n",
       "       host_total_listings_count  \\\n",
       "1                            1.0   \n",
       "2                            1.0   \n",
       "3                            1.0   \n",
       "4                            1.0   \n",
       "5                            1.0   \n",
       "...                          ...   \n",
       "45750                        1.0   \n",
       "45751                        1.0   \n",
       "45752                        2.0   \n",
       "45753                        1.0   \n",
       "45754                        1.0   \n",
       "\n",
       "                                      host_verifications  \n",
       "1      ['email', 'phone', 'reviews', 'offline_governm...  \n",
       "2      ['email', 'phone', 'facebook', 'reviews', 'off...  \n",
       "3                          ['email', 'phone', 'reviews']  \n",
       "4              ['email', 'phone', 'facebook', 'reviews']  \n",
       "5      ['email', 'phone', 'facebook', 'google', 'revi...  \n",
       "...                                                  ...  \n",
       "45750  ['email', 'phone', 'facebook', 'reviews', 'kba...  \n",
       "45751  ['email', 'phone', 'jumio', 'offline_governmen...  \n",
       "45752  ['email', 'phone', 'facebook', 'reviews', 'jum...  \n",
       "45753  ['email', 'phone', 'jumio', 'offline_governmen...  \n",
       "45754  ['email', 'phone', 'jumio', 'offline_governmen...  \n",
       "\n",
       "[41223 rows x 8 columns]"
      ]
     },
     "execution_count": 15,
     "metadata": {},
     "output_type": "execute_result"
    }
   ],
   "source": [
    "seas"
   ]
  },
  {
   "cell_type": "markdown",
   "metadata": {},
   "source": [
    "## Converting column to datetime"
   ]
  },
  {
   "cell_type": "code",
   "execution_count": 16,
   "metadata": {},
   "outputs": [],
   "source": [
    "seas.host_since=pd.to_datetime(seas['host_since'], format='%d/%m/%Y')"
   ]
  },
  {
   "cell_type": "code",
   "execution_count": 17,
   "metadata": {},
   "outputs": [
    {
     "data": {
      "text/plain": [
       "host_since                   datetime64[ns]\n",
       "host_location                        object\n",
       "price                                object\n",
       "room_type                            object\n",
       "bedrooms                            float64\n",
       "host_listings_count                 float64\n",
       "host_total_listings_count           float64\n",
       "host_verifications                   object\n",
       "dtype: object"
      ]
     },
     "execution_count": 17,
     "metadata": {},
     "output_type": "execute_result"
    }
   ],
   "source": [
    "seas.dtypes"
   ]
  },
  {
   "cell_type": "code",
   "execution_count": 18,
   "metadata": {},
   "outputs": [],
   "source": [
    "seas['Date'] = seas['host_since'].dt.date\n",
    "seas['Day'] = seas['host_since'].dt.day\n",
    "seas['Month'] = seas['host_since'].dt.month\n",
    "seas['week'] =seas['host_since'].dt.week\n",
    "seas['year'] =seas['host_since'].dt.year"
   ]
  },
  {
   "cell_type": "code",
   "execution_count": 19,
   "metadata": {},
   "outputs": [
    {
     "data": {
      "text/html": [
       "<div>\n",
       "<style scoped>\n",
       "    .dataframe tbody tr th:only-of-type {\n",
       "        vertical-align: middle;\n",
       "    }\n",
       "\n",
       "    .dataframe tbody tr th {\n",
       "        vertical-align: top;\n",
       "    }\n",
       "\n",
       "    .dataframe thead th {\n",
       "        text-align: right;\n",
       "    }\n",
       "</style>\n",
       "<table border=\"1\" class=\"dataframe\">\n",
       "  <thead>\n",
       "    <tr style=\"text-align: right;\">\n",
       "      <th></th>\n",
       "      <th>host_since</th>\n",
       "      <th>host_location</th>\n",
       "      <th>price</th>\n",
       "      <th>room_type</th>\n",
       "      <th>bedrooms</th>\n",
       "      <th>host_listings_count</th>\n",
       "      <th>host_total_listings_count</th>\n",
       "      <th>host_verifications</th>\n",
       "      <th>Date</th>\n",
       "      <th>Day</th>\n",
       "      <th>Month</th>\n",
       "      <th>week</th>\n",
       "      <th>year</th>\n",
       "    </tr>\n",
       "  </thead>\n",
       "  <tbody>\n",
       "    <tr>\n",
       "      <th>1</th>\n",
       "      <td>2008-12-07</td>\n",
       "      <td>New York, New York, United States</td>\n",
       "      <td>$76.00</td>\n",
       "      <td>Entire home/apt</td>\n",
       "      <td>1.0</td>\n",
       "      <td>1.0</td>\n",
       "      <td>1.0</td>\n",
       "      <td>['email', 'phone', 'reviews', 'offline_governm...</td>\n",
       "      <td>2008-12-07</td>\n",
       "      <td>7</td>\n",
       "      <td>12</td>\n",
       "      <td>49</td>\n",
       "      <td>2008</td>\n",
       "    </tr>\n",
       "    <tr>\n",
       "      <th>2</th>\n",
       "      <td>2009-02-03</td>\n",
       "      <td>New York, New York, United States</td>\n",
       "      <td>$60.00</td>\n",
       "      <td>Private room</td>\n",
       "      <td>1.0</td>\n",
       "      <td>1.0</td>\n",
       "      <td>1.0</td>\n",
       "      <td>['email', 'phone', 'facebook', 'reviews', 'off...</td>\n",
       "      <td>2009-02-03</td>\n",
       "      <td>3</td>\n",
       "      <td>2</td>\n",
       "      <td>6</td>\n",
       "      <td>2009</td>\n",
       "    </tr>\n",
       "    <tr>\n",
       "      <th>3</th>\n",
       "      <td>2009-02-03</td>\n",
       "      <td>New York, New York, United States</td>\n",
       "      <td>$175.00</td>\n",
       "      <td>Entire home/apt</td>\n",
       "      <td>2.0</td>\n",
       "      <td>1.0</td>\n",
       "      <td>1.0</td>\n",
       "      <td>['email', 'phone', 'reviews']</td>\n",
       "      <td>2009-02-03</td>\n",
       "      <td>3</td>\n",
       "      <td>2</td>\n",
       "      <td>6</td>\n",
       "      <td>2009</td>\n",
       "    </tr>\n",
       "    <tr>\n",
       "      <th>4</th>\n",
       "      <td>2009-03-03</td>\n",
       "      <td>New York, New York, United States</td>\n",
       "      <td>$79.00</td>\n",
       "      <td>Private room</td>\n",
       "      <td>1.0</td>\n",
       "      <td>1.0</td>\n",
       "      <td>1.0</td>\n",
       "      <td>['email', 'phone', 'facebook', 'reviews']</td>\n",
       "      <td>2009-03-03</td>\n",
       "      <td>3</td>\n",
       "      <td>3</td>\n",
       "      <td>10</td>\n",
       "      <td>2009</td>\n",
       "    </tr>\n",
       "    <tr>\n",
       "      <th>5</th>\n",
       "      <td>2009-02-05</td>\n",
       "      <td>New York, New York, United States</td>\n",
       "      <td>$75.00</td>\n",
       "      <td>Private room</td>\n",
       "      <td>1.0</td>\n",
       "      <td>1.0</td>\n",
       "      <td>1.0</td>\n",
       "      <td>['email', 'phone', 'facebook', 'google', 'revi...</td>\n",
       "      <td>2009-02-05</td>\n",
       "      <td>5</td>\n",
       "      <td>2</td>\n",
       "      <td>6</td>\n",
       "      <td>2009</td>\n",
       "    </tr>\n",
       "  </tbody>\n",
       "</table>\n",
       "</div>"
      ],
      "text/plain": [
       "  host_since                      host_location    price        room_type  \\\n",
       "1 2008-12-07  New York, New York, United States   $76.00  Entire home/apt   \n",
       "2 2009-02-03  New York, New York, United States   $60.00     Private room   \n",
       "3 2009-02-03  New York, New York, United States  $175.00  Entire home/apt   \n",
       "4 2009-03-03  New York, New York, United States   $79.00     Private room   \n",
       "5 2009-02-05  New York, New York, United States   $75.00     Private room   \n",
       "\n",
       "   bedrooms  host_listings_count  host_total_listings_count  \\\n",
       "1       1.0                  1.0                        1.0   \n",
       "2       1.0                  1.0                        1.0   \n",
       "3       2.0                  1.0                        1.0   \n",
       "4       1.0                  1.0                        1.0   \n",
       "5       1.0                  1.0                        1.0   \n",
       "\n",
       "                                  host_verifications        Date  Day  Month  \\\n",
       "1  ['email', 'phone', 'reviews', 'offline_governm...  2008-12-07    7     12   \n",
       "2  ['email', 'phone', 'facebook', 'reviews', 'off...  2009-02-03    3      2   \n",
       "3                      ['email', 'phone', 'reviews']  2009-02-03    3      2   \n",
       "4          ['email', 'phone', 'facebook', 'reviews']  2009-03-03    3      3   \n",
       "5  ['email', 'phone', 'facebook', 'google', 'revi...  2009-02-05    5      2   \n",
       "\n",
       "   week  year  \n",
       "1    49  2008  \n",
       "2     6  2009  \n",
       "3     6  2009  \n",
       "4    10  2009  \n",
       "5     6  2009  "
      ]
     },
     "execution_count": 19,
     "metadata": {},
     "output_type": "execute_result"
    }
   ],
   "source": [
    "seas.head()"
   ]
  },
  {
   "cell_type": "code",
   "execution_count": 20,
   "metadata": {},
   "outputs": [
    {
     "data": {
      "text/plain": [
       "1         $76.00\n",
       "2         $60.00\n",
       "3        $175.00\n",
       "4         $79.00\n",
       "5         $75.00\n",
       "          ...   \n",
       "45750     $55.00\n",
       "45751     $53.00\n",
       "45752     $79.00\n",
       "45753     $70.00\n",
       "45754     $59.00\n",
       "Name: price, Length: 41223, dtype: object"
      ]
     },
     "execution_count": 20,
     "metadata": {},
     "output_type": "execute_result"
    }
   ],
   "source": [
    "seas['price']"
   ]
  },
  {
   "cell_type": "markdown",
   "metadata": {},
   "source": [
    "## replacing symbol"
   ]
  },
  {
   "cell_type": "code",
   "execution_count": 21,
   "metadata": {},
   "outputs": [],
   "source": [
    "seas['price'] = seas['price'].str.replace('$', '')"
   ]
  },
  {
   "cell_type": "code",
   "execution_count": 22,
   "metadata": {},
   "outputs": [
    {
     "data": {
      "text/plain": [
       "1         76.00\n",
       "2         60.00\n",
       "3        175.00\n",
       "4         79.00\n",
       "5         75.00\n",
       "          ...  \n",
       "45750     55.00\n",
       "45751     53.00\n",
       "45752     79.00\n",
       "45753     70.00\n",
       "45754     59.00\n",
       "Name: price, Length: 41223, dtype: object"
      ]
     },
     "execution_count": 22,
     "metadata": {},
     "output_type": "execute_result"
    }
   ],
   "source": [
    "seas['price']"
   ]
  },
  {
   "cell_type": "code",
   "execution_count": 23,
   "metadata": {},
   "outputs": [],
   "source": [
    "seas['price'] = seas['price'].str.replace(',', '')"
   ]
  },
  {
   "cell_type": "code",
   "execution_count": 24,
   "metadata": {},
   "outputs": [],
   "source": [
    "seas['price'] = seas['price'].astype(float)"
   ]
  },
  {
   "cell_type": "code",
   "execution_count": 25,
   "metadata": {},
   "outputs": [
    {
     "data": {
      "text/plain": [
       "host_since                   datetime64[ns]\n",
       "host_location                        object\n",
       "price                               float64\n",
       "room_type                            object\n",
       "bedrooms                            float64\n",
       "host_listings_count                 float64\n",
       "host_total_listings_count           float64\n",
       "host_verifications                   object\n",
       "Date                                 object\n",
       "Day                                   int64\n",
       "Month                                 int64\n",
       "week                                  int64\n",
       "year                                  int64\n",
       "dtype: object"
      ]
     },
     "execution_count": 25,
     "metadata": {},
     "output_type": "execute_result"
    }
   ],
   "source": [
    "seas.dtypes"
   ]
  },
  {
   "cell_type": "markdown",
   "metadata": {},
   "source": [
    "# Data Analysis"
   ]
  },
  {
   "cell_type": "code",
   "execution_count": 26,
   "metadata": {},
   "outputs": [
    {
     "data": {
      "text/plain": [
       "10000.0"
      ]
     },
     "execution_count": 26,
     "metadata": {},
     "output_type": "execute_result"
    }
   ],
   "source": [
    "seas['price'].max()"
   ]
  },
  {
   "cell_type": "code",
   "execution_count": 27,
   "metadata": {},
   "outputs": [
    {
     "data": {
      "text/html": [
       "<div>\n",
       "<style scoped>\n",
       "    .dataframe tbody tr th:only-of-type {\n",
       "        vertical-align: middle;\n",
       "    }\n",
       "\n",
       "    .dataframe tbody tr th {\n",
       "        vertical-align: top;\n",
       "    }\n",
       "\n",
       "    .dataframe thead th {\n",
       "        text-align: right;\n",
       "    }\n",
       "</style>\n",
       "<table border=\"1\" class=\"dataframe\">\n",
       "  <thead>\n",
       "    <tr style=\"text-align: right;\">\n",
       "      <th></th>\n",
       "      <th>host_since</th>\n",
       "      <th>host_location</th>\n",
       "      <th>price</th>\n",
       "      <th>room_type</th>\n",
       "      <th>bedrooms</th>\n",
       "      <th>host_listings_count</th>\n",
       "      <th>host_total_listings_count</th>\n",
       "      <th>host_verifications</th>\n",
       "      <th>Date</th>\n",
       "      <th>Day</th>\n",
       "      <th>Month</th>\n",
       "      <th>week</th>\n",
       "      <th>year</th>\n",
       "    </tr>\n",
       "  </thead>\n",
       "  <tbody>\n",
       "    <tr>\n",
       "      <th>14458</th>\n",
       "      <td>2013-02-19</td>\n",
       "      <td>New York, New York, United States</td>\n",
       "      <td>10000.0</td>\n",
       "      <td>Entire home/apt</td>\n",
       "      <td>1.0</td>\n",
       "      <td>1.0</td>\n",
       "      <td>1.0</td>\n",
       "      <td>['email', 'phone', 'facebook', 'reviews', 'kba...</td>\n",
       "      <td>2013-02-19</td>\n",
       "      <td>19</td>\n",
       "      <td>2</td>\n",
       "      <td>8</td>\n",
       "      <td>2013</td>\n",
       "    </tr>\n",
       "    <tr>\n",
       "      <th>14502</th>\n",
       "      <td>2016-02-12</td>\n",
       "      <td>New York, New York, United States</td>\n",
       "      <td>10000.0</td>\n",
       "      <td>Entire home/apt</td>\n",
       "      <td>2.0</td>\n",
       "      <td>1.0</td>\n",
       "      <td>1.0</td>\n",
       "      <td>['email', 'phone', 'reviews', 'jumio', 'selfie...</td>\n",
       "      <td>2016-02-12</td>\n",
       "      <td>12</td>\n",
       "      <td>2</td>\n",
       "      <td>6</td>\n",
       "      <td>2016</td>\n",
       "    </tr>\n",
       "    <tr>\n",
       "      <th>23192</th>\n",
       "      <td>2016-05-16</td>\n",
       "      <td>New York, New York, United States</td>\n",
       "      <td>10000.0</td>\n",
       "      <td>Entire home/apt</td>\n",
       "      <td>1.0</td>\n",
       "      <td>1.0</td>\n",
       "      <td>1.0</td>\n",
       "      <td>['phone']</td>\n",
       "      <td>2016-05-16</td>\n",
       "      <td>16</td>\n",
       "      <td>5</td>\n",
       "      <td>20</td>\n",
       "      <td>2016</td>\n",
       "    </tr>\n",
       "    <tr>\n",
       "      <th>30386</th>\n",
       "      <td>2018-02-07</td>\n",
       "      <td>New York, New York, United States</td>\n",
       "      <td>10000.0</td>\n",
       "      <td>Shared room</td>\n",
       "      <td>1.0</td>\n",
       "      <td>1.0</td>\n",
       "      <td>1.0</td>\n",
       "      <td>['email', 'phone']</td>\n",
       "      <td>2018-02-07</td>\n",
       "      <td>7</td>\n",
       "      <td>2</td>\n",
       "      <td>6</td>\n",
       "      <td>2018</td>\n",
       "    </tr>\n",
       "    <tr>\n",
       "      <th>37257</th>\n",
       "      <td>2018-10-12</td>\n",
       "      <td>New York, New York, United States</td>\n",
       "      <td>10000.0</td>\n",
       "      <td>Private room</td>\n",
       "      <td>1.0</td>\n",
       "      <td>11.0</td>\n",
       "      <td>11.0</td>\n",
       "      <td>['email', 'phone']</td>\n",
       "      <td>2018-10-12</td>\n",
       "      <td>12</td>\n",
       "      <td>10</td>\n",
       "      <td>41</td>\n",
       "      <td>2018</td>\n",
       "    </tr>\n",
       "    <tr>\n",
       "      <th>37883</th>\n",
       "      <td>2019-06-06</td>\n",
       "      <td>US</td>\n",
       "      <td>10000.0</td>\n",
       "      <td>Private room</td>\n",
       "      <td>1.0</td>\n",
       "      <td>4.0</td>\n",
       "      <td>4.0</td>\n",
       "      <td>['email', 'phone', 'work_email']</td>\n",
       "      <td>2019-06-06</td>\n",
       "      <td>6</td>\n",
       "      <td>6</td>\n",
       "      <td>23</td>\n",
       "      <td>2019</td>\n",
       "    </tr>\n",
       "  </tbody>\n",
       "</table>\n",
       "</div>"
      ],
      "text/plain": [
       "      host_since                      host_location    price        room_type  \\\n",
       "14458 2013-02-19  New York, New York, United States  10000.0  Entire home/apt   \n",
       "14502 2016-02-12  New York, New York, United States  10000.0  Entire home/apt   \n",
       "23192 2016-05-16  New York, New York, United States  10000.0  Entire home/apt   \n",
       "30386 2018-02-07  New York, New York, United States  10000.0      Shared room   \n",
       "37257 2018-10-12  New York, New York, United States  10000.0     Private room   \n",
       "37883 2019-06-06                                 US  10000.0     Private room   \n",
       "\n",
       "       bedrooms  host_listings_count  host_total_listings_count  \\\n",
       "14458       1.0                  1.0                        1.0   \n",
       "14502       2.0                  1.0                        1.0   \n",
       "23192       1.0                  1.0                        1.0   \n",
       "30386       1.0                  1.0                        1.0   \n",
       "37257       1.0                 11.0                       11.0   \n",
       "37883       1.0                  4.0                        4.0   \n",
       "\n",
       "                                      host_verifications        Date  Day  \\\n",
       "14458  ['email', 'phone', 'facebook', 'reviews', 'kba...  2013-02-19   19   \n",
       "14502  ['email', 'phone', 'reviews', 'jumio', 'selfie...  2016-02-12   12   \n",
       "23192                                          ['phone']  2016-05-16   16   \n",
       "30386                                 ['email', 'phone']  2018-02-07    7   \n",
       "37257                                 ['email', 'phone']  2018-10-12   12   \n",
       "37883                   ['email', 'phone', 'work_email']  2019-06-06    6   \n",
       "\n",
       "       Month  week  year  \n",
       "14458      2     8  2013  \n",
       "14502      2     6  2016  \n",
       "23192      5    20  2016  \n",
       "30386      2     6  2018  \n",
       "37257     10    41  2018  \n",
       "37883      6    23  2019  "
      ]
     },
     "execution_count": 27,
     "metadata": {},
     "output_type": "execute_result"
    }
   ],
   "source": [
    "seas[seas['price'] == 10000]"
   ]
  },
  {
   "cell_type": "code",
   "execution_count": 28,
   "metadata": {},
   "outputs": [
    {
     "data": {
      "text/plain": [
       "0.0"
      ]
     },
     "execution_count": 28,
     "metadata": {},
     "output_type": "execute_result"
    }
   ],
   "source": [
    "seas['price'].min()"
   ]
  },
  {
   "cell_type": "code",
   "execution_count": 29,
   "metadata": {},
   "outputs": [
    {
     "data": {
      "text/html": [
       "<div>\n",
       "<style scoped>\n",
       "    .dataframe tbody tr th:only-of-type {\n",
       "        vertical-align: middle;\n",
       "    }\n",
       "\n",
       "    .dataframe tbody tr th {\n",
       "        vertical-align: top;\n",
       "    }\n",
       "\n",
       "    .dataframe thead th {\n",
       "        text-align: right;\n",
       "    }\n",
       "</style>\n",
       "<table border=\"1\" class=\"dataframe\">\n",
       "  <thead>\n",
       "    <tr style=\"text-align: right;\">\n",
       "      <th></th>\n",
       "      <th>host_since</th>\n",
       "      <th>host_location</th>\n",
       "      <th>price</th>\n",
       "      <th>room_type</th>\n",
       "      <th>bedrooms</th>\n",
       "      <th>host_listings_count</th>\n",
       "      <th>host_total_listings_count</th>\n",
       "      <th>host_verifications</th>\n",
       "      <th>Date</th>\n",
       "      <th>Day</th>\n",
       "      <th>Month</th>\n",
       "      <th>week</th>\n",
       "      <th>year</th>\n",
       "    </tr>\n",
       "  </thead>\n",
       "  <tbody>\n",
       "    <tr>\n",
       "      <th>36601</th>\n",
       "      <td>2019-09-05</td>\n",
       "      <td>US</td>\n",
       "      <td>0.0</td>\n",
       "      <td>Private room</td>\n",
       "      <td>1.0</td>\n",
       "      <td>5.0</td>\n",
       "      <td>5.0</td>\n",
       "      <td>['phone']</td>\n",
       "      <td>2019-09-05</td>\n",
       "      <td>5</td>\n",
       "      <td>9</td>\n",
       "      <td>36</td>\n",
       "      <td>2019</td>\n",
       "    </tr>\n",
       "    <tr>\n",
       "      <th>36602</th>\n",
       "      <td>2019-09-05</td>\n",
       "      <td>US</td>\n",
       "      <td>0.0</td>\n",
       "      <td>Private room</td>\n",
       "      <td>1.0</td>\n",
       "      <td>5.0</td>\n",
       "      <td>5.0</td>\n",
       "      <td>['phone']</td>\n",
       "      <td>2019-09-05</td>\n",
       "      <td>5</td>\n",
       "      <td>9</td>\n",
       "      <td>36</td>\n",
       "      <td>2019</td>\n",
       "    </tr>\n",
       "    <tr>\n",
       "      <th>36604</th>\n",
       "      <td>2019-09-05</td>\n",
       "      <td>US</td>\n",
       "      <td>0.0</td>\n",
       "      <td>Private room</td>\n",
       "      <td>1.0</td>\n",
       "      <td>5.0</td>\n",
       "      <td>5.0</td>\n",
       "      <td>['phone']</td>\n",
       "      <td>2019-09-05</td>\n",
       "      <td>5</td>\n",
       "      <td>9</td>\n",
       "      <td>36</td>\n",
       "      <td>2019</td>\n",
       "    </tr>\n",
       "    <tr>\n",
       "      <th>36605</th>\n",
       "      <td>2019-09-05</td>\n",
       "      <td>US</td>\n",
       "      <td>0.0</td>\n",
       "      <td>Private room</td>\n",
       "      <td>1.0</td>\n",
       "      <td>5.0</td>\n",
       "      <td>5.0</td>\n",
       "      <td>['phone']</td>\n",
       "      <td>2019-09-05</td>\n",
       "      <td>5</td>\n",
       "      <td>9</td>\n",
       "      <td>36</td>\n",
       "      <td>2019</td>\n",
       "    </tr>\n",
       "  </tbody>\n",
       "</table>\n",
       "</div>"
      ],
      "text/plain": [
       "      host_since host_location  price     room_type  bedrooms  \\\n",
       "36601 2019-09-05            US    0.0  Private room       1.0   \n",
       "36602 2019-09-05            US    0.0  Private room       1.0   \n",
       "36604 2019-09-05            US    0.0  Private room       1.0   \n",
       "36605 2019-09-05            US    0.0  Private room       1.0   \n",
       "\n",
       "       host_listings_count  host_total_listings_count host_verifications  \\\n",
       "36601                  5.0                        5.0          ['phone']   \n",
       "36602                  5.0                        5.0          ['phone']   \n",
       "36604                  5.0                        5.0          ['phone']   \n",
       "36605                  5.0                        5.0          ['phone']   \n",
       "\n",
       "             Date  Day  Month  week  year  \n",
       "36601  2019-09-05    5      9    36  2019  \n",
       "36602  2019-09-05    5      9    36  2019  \n",
       "36604  2019-09-05    5      9    36  2019  \n",
       "36605  2019-09-05    5      9    36  2019  "
      ]
     },
     "execution_count": 29,
     "metadata": {},
     "output_type": "execute_result"
    }
   ],
   "source": [
    "seas[seas['price'] == 0.0]"
   ]
  },
  {
   "cell_type": "code",
   "execution_count": 30,
   "metadata": {},
   "outputs": [],
   "source": [
    "yearcoun=seas['year'].value_counts()"
   ]
  },
  {
   "cell_type": "markdown",
   "metadata": {},
   "source": [
    "## Airbnb per year listing"
   ]
  },
  {
   "cell_type": "code",
   "execution_count": 31,
   "metadata": {},
   "outputs": [
    {
     "data": {
      "text/plain": [
       "<matplotlib.axes._subplots.AxesSubplot at 0x21b808da220>"
      ]
     },
     "execution_count": 31,
     "metadata": {},
     "output_type": "execute_result"
    },
    {
     "data": {
      "image/png": "[encoded data removed]",
      "text/plain": [
       "<Figure size 432x288 with 1 Axes>"
      ]
     },
     "metadata": {
      "needs_background": "light"
     },
     "output_type": "display_data"
    }
   ],
   "source": [
    "seas['year'].value_counts().plot(kind = 'bar')"
   ]
  },
  {
   "cell_type": "markdown",
   "metadata": {},
   "source": [
    "## Airbnb per month listing"
   ]
  },
  {
   "cell_type": "code",
   "execution_count": 33,
   "metadata": {},
   "outputs": [
    {
     "data": {
      "text/plain": [
       "<matplotlib.axes._subplots.AxesSubplot at 0x21b809d0ee0>"
      ]
     },
     "execution_count": 33,
     "metadata": {},
     "output_type": "execute_result"
    },
    {
     "data": {
      "image/png": "[encoded data removed]",
      "text/plain": [
       "<Figure size 432x288 with 1 Axes>"
      ]
     },
     "metadata": {
      "needs_background": "light"
     },
     "output_type": "display_data"
    }
   ],
   "source": [
    "seas['Month'].value_counts().plot(kind='bar')"
   ]
  },
  {
   "cell_type": "markdown",
   "metadata": {},
   "source": [
    "## Airbnb per day listing"
   ]
  },
  {
   "cell_type": "code",
   "execution_count": 34,
   "metadata": {},
   "outputs": [
    {
     "data": {
      "text/plain": [
       "<matplotlib.axes._subplots.AxesSubplot at 0x21b814e25b0>"
      ]
     },
     "execution_count": 34,
     "metadata": {},
     "output_type": "execute_result"
    },
    {
     "data": {
      "image/png": "[encoded data removed]",
      "text/plain": [
       "<Figure size 432x288 with 1 Axes>"
      ]
     },
     "metadata": {
      "needs_background": "light"
     },
     "output_type": "display_data"
    }
   ],
   "source": [
    "seas['Day'].value_counts().plot(kind='bar')"
   ]
  },
  {
   "cell_type": "markdown",
   "metadata": {},
   "source": [
    "## Grouping total price per year"
   ]
  },
  {
   "cell_type": "code",
   "execution_count": 35,
   "metadata": {},
   "outputs": [],
   "source": [
    "yeapri=seas[['year','price']].groupby('year').sum().reset_index()"
   ]
  },
  {
   "cell_type": "markdown",
   "metadata": {},
   "source": [
    "## value count of room types"
   ]
  },
  {
   "cell_type": "code",
   "execution_count": 37,
   "metadata": {},
   "outputs": [
    {
     "data": {
      "text/plain": [
       "Private room       20268\n",
       "Entire home/apt    19681\n",
       "Shared room          941\n",
       "Hotel room           333\n",
       "Name: room_type, dtype: int64"
      ]
     },
     "execution_count": 37,
     "metadata": {},
     "output_type": "execute_result"
    }
   ],
   "source": [
    "seas['room_type'].value_counts()"
   ]
  },
  {
   "cell_type": "markdown",
   "metadata": {},
   "source": [
    "## Descriptive analysis"
   ]
  },
  {
   "cell_type": "code",
   "execution_count": 38,
   "metadata": {},
   "outputs": [
    {
     "data": {
      "text/html": [
       "<div>\n",
       "<style scoped>\n",
       "    .dataframe tbody tr th:only-of-type {\n",
       "        vertical-align: middle;\n",
       "    }\n",
       "\n",
       "    .dataframe tbody tr th {\n",
       "        vertical-align: top;\n",
       "    }\n",
       "\n",
       "    .dataframe thead th {\n",
       "        text-align: right;\n",
       "    }\n",
       "</style>\n",
       "<table border=\"1\" class=\"dataframe\">\n",
       "  <thead>\n",
       "    <tr style=\"text-align: right;\">\n",
       "      <th></th>\n",
       "      <th>price</th>\n",
       "    </tr>\n",
       "    <tr>\n",
       "      <th>room_type</th>\n",
       "      <th></th>\n",
       "    </tr>\n",
       "  </thead>\n",
       "  <tbody>\n",
       "    <tr>\n",
       "      <th>Entire home/apt</th>\n",
       "      <td>209.858187</td>\n",
       "    </tr>\n",
       "    <tr>\n",
       "      <th>Hotel room</th>\n",
       "      <td>334.393844</td>\n",
       "    </tr>\n",
       "    <tr>\n",
       "      <th>Private room</th>\n",
       "      <td>89.774502</td>\n",
       "    </tr>\n",
       "    <tr>\n",
       "      <th>Shared room</th>\n",
       "      <td>89.118757</td>\n",
       "    </tr>\n",
       "  </tbody>\n",
       "</table>\n",
       "</div>"
      ],
      "text/plain": [
       "                      price\n",
       "room_type                  \n",
       "Entire home/apt  209.858187\n",
       "Hotel room       334.393844\n",
       "Private room      89.774502\n",
       "Shared room       89.118757"
      ]
     },
     "execution_count": 38,
     "metadata": {},
     "output_type": "execute_result"
    }
   ],
   "source": [
    "seas[['room_type','price']].groupby('room_type').mean()"
   ]
  },
  {
   "cell_type": "code",
   "execution_count": 39,
   "metadata": {},
   "outputs": [
    {
     "data": {
      "text/plain": [
       "2229.0"
      ]
     },
     "execution_count": 39,
     "metadata": {},
     "output_type": "execute_result"
    }
   ],
   "source": [
    "seas[seas['room_type'] =='Hotel room'].price.max()"
   ]
  },
  {
   "cell_type": "code",
   "execution_count": 40,
   "metadata": {},
   "outputs": [
    {
     "data": {
      "text/html": [
       "<div>\n",
       "<style scoped>\n",
       "    .dataframe tbody tr th:only-of-type {\n",
       "        vertical-align: middle;\n",
       "    }\n",
       "\n",
       "    .dataframe tbody tr th {\n",
       "        vertical-align: top;\n",
       "    }\n",
       "\n",
       "    .dataframe thead th {\n",
       "        text-align: right;\n",
       "    }\n",
       "</style>\n",
       "<table border=\"1\" class=\"dataframe\">\n",
       "  <thead>\n",
       "    <tr style=\"text-align: right;\">\n",
       "      <th></th>\n",
       "      <th>host_since</th>\n",
       "      <th>host_location</th>\n",
       "      <th>price</th>\n",
       "      <th>room_type</th>\n",
       "      <th>bedrooms</th>\n",
       "      <th>host_listings_count</th>\n",
       "      <th>host_total_listings_count</th>\n",
       "      <th>host_verifications</th>\n",
       "      <th>Date</th>\n",
       "      <th>Day</th>\n",
       "      <th>Month</th>\n",
       "      <th>week</th>\n",
       "      <th>year</th>\n",
       "    </tr>\n",
       "  </thead>\n",
       "  <tbody>\n",
       "    <tr>\n",
       "      <th>32863</th>\n",
       "      <td>2019-05-13</td>\n",
       "      <td>New York, New York, United States</td>\n",
       "      <td>2229.0</td>\n",
       "      <td>Hotel room</td>\n",
       "      <td>1.0</td>\n",
       "      <td>9.0</td>\n",
       "      <td>9.0</td>\n",
       "      <td>['phone']</td>\n",
       "      <td>2019-05-13</td>\n",
       "      <td>13</td>\n",
       "      <td>5</td>\n",
       "      <td>20</td>\n",
       "      <td>2019</td>\n",
       "    </tr>\n",
       "  </tbody>\n",
       "</table>\n",
       "</div>"
      ],
      "text/plain": [
       "      host_since                      host_location   price   room_type  \\\n",
       "32863 2019-05-13  New York, New York, United States  2229.0  Hotel room   \n",
       "\n",
       "       bedrooms  host_listings_count  host_total_listings_count  \\\n",
       "32863       1.0                  9.0                        9.0   \n",
       "\n",
       "      host_verifications        Date  Day  Month  week  year  \n",
       "32863          ['phone']  2019-05-13   13      5    20  2019  "
      ]
     },
     "execution_count": 40,
     "metadata": {},
     "output_type": "execute_result"
    }
   ],
   "source": [
    "seas[(seas['room_type'] == 'Hotel room') & (seas['price'] == 2229)]"
   ]
  },
  {
   "cell_type": "code",
   "execution_count": 41,
   "metadata": {},
   "outputs": [
    {
     "data": {
      "text/html": [
       "<div>\n",
       "<style scoped>\n",
       "    .dataframe tbody tr th:only-of-type {\n",
       "        vertical-align: middle;\n",
       "    }\n",
       "\n",
       "    .dataframe tbody tr th {\n",
       "        vertical-align: top;\n",
       "    }\n",
       "\n",
       "    .dataframe thead th {\n",
       "        text-align: right;\n",
       "    }\n",
       "</style>\n",
       "<table border=\"1\" class=\"dataframe\">\n",
       "  <thead>\n",
       "    <tr style=\"text-align: right;\">\n",
       "      <th></th>\n",
       "      <th>price</th>\n",
       "    </tr>\n",
       "    <tr>\n",
       "      <th>room_type</th>\n",
       "      <th></th>\n",
       "    </tr>\n",
       "  </thead>\n",
       "  <tbody>\n",
       "    <tr>\n",
       "      <th>Entire home/apt</th>\n",
       "      <td>4130218.97</td>\n",
       "    </tr>\n",
       "    <tr>\n",
       "      <th>Hotel room</th>\n",
       "      <td>111353.15</td>\n",
       "    </tr>\n",
       "    <tr>\n",
       "      <th>Private room</th>\n",
       "      <td>1819549.60</td>\n",
       "    </tr>\n",
       "    <tr>\n",
       "      <th>Shared room</th>\n",
       "      <td>83860.75</td>\n",
       "    </tr>\n",
       "  </tbody>\n",
       "</table>\n",
       "</div>"
      ],
      "text/plain": [
       "                      price\n",
       "room_type                  \n",
       "Entire home/apt  4130218.97\n",
       "Hotel room        111353.15\n",
       "Private room     1819549.60\n",
       "Shared room        83860.75"
      ]
     },
     "execution_count": 41,
     "metadata": {},
     "output_type": "execute_result"
    }
   ],
   "source": [
    "seas[['room_type','price']].groupby('room_type').sum()"
   ]
  },
  {
   "cell_type": "markdown",
   "metadata": {},
   "source": [
    "## Analysis for Entire home/apt"
   ]
  },
  {
   "cell_type": "code",
   "execution_count": 43,
   "metadata": {},
   "outputs": [],
   "source": [
    "entir=seas[seas['room_type'] == 'Entire home/apt']"
   ]
  },
  {
   "cell_type": "code",
   "execution_count": 44,
   "metadata": {},
   "outputs": [
    {
     "data": {
      "text/plain": [
       "<matplotlib.axes._subplots.AxesSubplot at 0x21b815bda00>"
      ]
     },
     "execution_count": 44,
     "metadata": {},
     "output_type": "execute_result"
    },
    {
     "data": {
      "image/png": "[encoded data removed]",
      "text/plain": [
       "<Figure size 432x288 with 1 Axes>"
      ]
     },
     "metadata": {
      "needs_background": "light"
     },
     "output_type": "display_data"
    }
   ],
   "source": [
    "entir['year'].value_counts().plot(kind='bar')"
   ]
  },
  {
   "cell_type": "code",
   "execution_count": 46,
   "metadata": {},
   "outputs": [
    {
     "data": {
      "text/html": [
       "<div>\n",
       "<style scoped>\n",
       "    .dataframe tbody tr th:only-of-type {\n",
       "        vertical-align: middle;\n",
       "    }\n",
       "\n",
       "    .dataframe tbody tr th {\n",
       "        vertical-align: top;\n",
       "    }\n",
       "\n",
       "    .dataframe thead th {\n",
       "        text-align: right;\n",
       "    }\n",
       "</style>\n",
       "<table border=\"1\" class=\"dataframe\">\n",
       "  <thead>\n",
       "    <tr style=\"text-align: right;\">\n",
       "      <th></th>\n",
       "      <th>host_since</th>\n",
       "      <th>host_location</th>\n",
       "      <th>price</th>\n",
       "      <th>room_type</th>\n",
       "      <th>bedrooms</th>\n",
       "      <th>host_listings_count</th>\n",
       "      <th>host_total_listings_count</th>\n",
       "      <th>host_verifications</th>\n",
       "      <th>Date</th>\n",
       "      <th>Day</th>\n",
       "      <th>Month</th>\n",
       "      <th>week</th>\n",
       "      <th>year</th>\n",
       "    </tr>\n",
       "  </thead>\n",
       "  <tbody>\n",
       "    <tr>\n",
       "      <th>1</th>\n",
       "      <td>2008-12-07</td>\n",
       "      <td>New York, New York, United States</td>\n",
       "      <td>76.00</td>\n",
       "      <td>Entire home/apt</td>\n",
       "      <td>1.0</td>\n",
       "      <td>1.0</td>\n",
       "      <td>1.0</td>\n",
       "      <td>['email', 'phone', 'reviews', 'offline_governm...</td>\n",
       "      <td>2008-12-07</td>\n",
       "      <td>7</td>\n",
       "      <td>12</td>\n",
       "      <td>49</td>\n",
       "      <td>2008</td>\n",
       "    </tr>\n",
       "    <tr>\n",
       "      <th>50</th>\n",
       "      <td>2008-11-19</td>\n",
       "      <td>New York, New York, United States</td>\n",
       "      <td>79.00</td>\n",
       "      <td>Private room</td>\n",
       "      <td>1.0</td>\n",
       "      <td>3.0</td>\n",
       "      <td>3.0</td>\n",
       "      <td>['email', 'phone', 'facebook', 'reviews', 'jum...</td>\n",
       "      <td>2008-11-19</td>\n",
       "      <td>19</td>\n",
       "      <td>11</td>\n",
       "      <td>47</td>\n",
       "      <td>2008</td>\n",
       "    </tr>\n",
       "    <tr>\n",
       "      <th>537</th>\n",
       "      <td>2008-10-14</td>\n",
       "      <td>New York, New York, United States</td>\n",
       "      <td>96.00</td>\n",
       "      <td>Entire home/apt</td>\n",
       "      <td>1.0</td>\n",
       "      <td>4.0</td>\n",
       "      <td>4.0</td>\n",
       "      <td>['email', 'phone', 'facebook', 'reviews', 'kba...</td>\n",
       "      <td>2008-10-14</td>\n",
       "      <td>14</td>\n",
       "      <td>10</td>\n",
       "      <td>42</td>\n",
       "      <td>2008</td>\n",
       "    </tr>\n",
       "    <tr>\n",
       "      <th>1145</th>\n",
       "      <td>2008-10-14</td>\n",
       "      <td>New York, New York, United States</td>\n",
       "      <td>99.00</td>\n",
       "      <td>Entire home/apt</td>\n",
       "      <td>1.0</td>\n",
       "      <td>4.0</td>\n",
       "      <td>4.0</td>\n",
       "      <td>['email', 'phone', 'facebook', 'reviews', 'kba...</td>\n",
       "      <td>2008-10-14</td>\n",
       "      <td>14</td>\n",
       "      <td>10</td>\n",
       "      <td>42</td>\n",
       "      <td>2008</td>\n",
       "    </tr>\n",
       "    <tr>\n",
       "      <th>1896</th>\n",
       "      <td>2008-08-27</td>\n",
       "      <td>Brooklyn, New York, United States</td>\n",
       "      <td>111.00</td>\n",
       "      <td>Entire home/apt</td>\n",
       "      <td>3.0</td>\n",
       "      <td>1.0</td>\n",
       "      <td>1.0</td>\n",
       "      <td>['email', 'phone', 'reviews', 'jumio', 'offlin...</td>\n",
       "      <td>2008-08-27</td>\n",
       "      <td>27</td>\n",
       "      <td>8</td>\n",
       "      <td>35</td>\n",
       "      <td>2008</td>\n",
       "    </tr>\n",
       "    <tr>\n",
       "      <th>2793</th>\n",
       "      <td>2008-12-12</td>\n",
       "      <td>New York, New York, United States</td>\n",
       "      <td>139.00</td>\n",
       "      <td>Entire home/apt</td>\n",
       "      <td>1.0</td>\n",
       "      <td>1.0</td>\n",
       "      <td>1.0</td>\n",
       "      <td>['email', 'phone', 'reviews', 'jumio', 'kba', ...</td>\n",
       "      <td>2008-12-12</td>\n",
       "      <td>12</td>\n",
       "      <td>12</td>\n",
       "      <td>50</td>\n",
       "      <td>2008</td>\n",
       "    </tr>\n",
       "    <tr>\n",
       "      <th>4641</th>\n",
       "      <td>2008-10-10</td>\n",
       "      <td>New York, New York, United States</td>\n",
       "      <td>35.00</td>\n",
       "      <td>Private room</td>\n",
       "      <td>1.0</td>\n",
       "      <td>1.0</td>\n",
       "      <td>1.0</td>\n",
       "      <td>['email', 'phone', 'facebook', 'reviews', 'kba']</td>\n",
       "      <td>2008-10-10</td>\n",
       "      <td>10</td>\n",
       "      <td>10</td>\n",
       "      <td>41</td>\n",
       "      <td>2008</td>\n",
       "    </tr>\n",
       "    <tr>\n",
       "      <th>6419</th>\n",
       "      <td>2008-09-10</td>\n",
       "      <td>Brooklyn, New York</td>\n",
       "      <td>43.00</td>\n",
       "      <td>Private room</td>\n",
       "      <td>1.0</td>\n",
       "      <td>2.0</td>\n",
       "      <td>2.0</td>\n",
       "      <td>['email', 'phone', 'facebook', 'reviews', 'off...</td>\n",
       "      <td>2008-09-10</td>\n",
       "      <td>10</td>\n",
       "      <td>9</td>\n",
       "      <td>37</td>\n",
       "      <td>2008</td>\n",
       "    </tr>\n",
       "    <tr>\n",
       "      <th>6771</th>\n",
       "      <td>2008-09-10</td>\n",
       "      <td>Brooklyn, New York</td>\n",
       "      <td>36.86</td>\n",
       "      <td>Private room</td>\n",
       "      <td>1.0</td>\n",
       "      <td>2.0</td>\n",
       "      <td>2.0</td>\n",
       "      <td>['email', 'phone', 'facebook', 'reviews', 'off...</td>\n",
       "      <td>2008-09-10</td>\n",
       "      <td>10</td>\n",
       "      <td>9</td>\n",
       "      <td>37</td>\n",
       "      <td>2008</td>\n",
       "    </tr>\n",
       "    <tr>\n",
       "      <th>8488</th>\n",
       "      <td>2008-09-07</td>\n",
       "      <td>New York, New York, United States</td>\n",
       "      <td>84.00</td>\n",
       "      <td>Private room</td>\n",
       "      <td>1.0</td>\n",
       "      <td>7.0</td>\n",
       "      <td>7.0</td>\n",
       "      <td>['email', 'phone', 'reviews', 'kba']</td>\n",
       "      <td>2008-09-07</td>\n",
       "      <td>7</td>\n",
       "      <td>9</td>\n",
       "      <td>36</td>\n",
       "      <td>2008</td>\n",
       "    </tr>\n",
       "    <tr>\n",
       "      <th>11105</th>\n",
       "      <td>2008-09-07</td>\n",
       "      <td>New York, New York, United States</td>\n",
       "      <td>84.00</td>\n",
       "      <td>Private room</td>\n",
       "      <td>1.0</td>\n",
       "      <td>7.0</td>\n",
       "      <td>7.0</td>\n",
       "      <td>['email', 'phone', 'reviews', 'kba']</td>\n",
       "      <td>2008-09-07</td>\n",
       "      <td>7</td>\n",
       "      <td>9</td>\n",
       "      <td>36</td>\n",
       "      <td>2008</td>\n",
       "    </tr>\n",
       "    <tr>\n",
       "      <th>11196</th>\n",
       "      <td>2008-09-07</td>\n",
       "      <td>New York, New York, United States</td>\n",
       "      <td>84.00</td>\n",
       "      <td>Shared room</td>\n",
       "      <td>1.0</td>\n",
       "      <td>7.0</td>\n",
       "      <td>7.0</td>\n",
       "      <td>['email', 'phone', 'reviews', 'kba']</td>\n",
       "      <td>2008-09-07</td>\n",
       "      <td>7</td>\n",
       "      <td>9</td>\n",
       "      <td>36</td>\n",
       "      <td>2008</td>\n",
       "    </tr>\n",
       "    <tr>\n",
       "      <th>11197</th>\n",
       "      <td>2008-09-07</td>\n",
       "      <td>New York, New York, United States</td>\n",
       "      <td>84.00</td>\n",
       "      <td>Private room</td>\n",
       "      <td>1.0</td>\n",
       "      <td>7.0</td>\n",
       "      <td>7.0</td>\n",
       "      <td>['email', 'phone', 'reviews', 'kba']</td>\n",
       "      <td>2008-09-07</td>\n",
       "      <td>7</td>\n",
       "      <td>9</td>\n",
       "      <td>36</td>\n",
       "      <td>2008</td>\n",
       "    </tr>\n",
       "    <tr>\n",
       "      <th>11426</th>\n",
       "      <td>2008-09-07</td>\n",
       "      <td>New York, New York, United States</td>\n",
       "      <td>84.00</td>\n",
       "      <td>Shared room</td>\n",
       "      <td>1.0</td>\n",
       "      <td>7.0</td>\n",
       "      <td>7.0</td>\n",
       "      <td>['email', 'phone', 'reviews', 'kba']</td>\n",
       "      <td>2008-09-07</td>\n",
       "      <td>7</td>\n",
       "      <td>9</td>\n",
       "      <td>36</td>\n",
       "      <td>2008</td>\n",
       "    </tr>\n",
       "    <tr>\n",
       "      <th>13482</th>\n",
       "      <td>2008-09-10</td>\n",
       "      <td>New York, New York, United States</td>\n",
       "      <td>60.00</td>\n",
       "      <td>Entire home/apt</td>\n",
       "      <td>1.0</td>\n",
       "      <td>1.0</td>\n",
       "      <td>1.0</td>\n",
       "      <td>['email', 'phone', 'reviews']</td>\n",
       "      <td>2008-09-10</td>\n",
       "      <td>10</td>\n",
       "      <td>9</td>\n",
       "      <td>37</td>\n",
       "      <td>2008</td>\n",
       "    </tr>\n",
       "    <tr>\n",
       "      <th>14404</th>\n",
       "      <td>2008-11-19</td>\n",
       "      <td>New York, New York, United States</td>\n",
       "      <td>89.00</td>\n",
       "      <td>Private room</td>\n",
       "      <td>1.0</td>\n",
       "      <td>3.0</td>\n",
       "      <td>3.0</td>\n",
       "      <td>['email', 'phone', 'facebook', 'reviews', 'jum...</td>\n",
       "      <td>2008-11-19</td>\n",
       "      <td>19</td>\n",
       "      <td>11</td>\n",
       "      <td>47</td>\n",
       "      <td>2008</td>\n",
       "    </tr>\n",
       "    <tr>\n",
       "      <th>16611</th>\n",
       "      <td>2008-09-07</td>\n",
       "      <td>New York, New York, United States</td>\n",
       "      <td>95.00</td>\n",
       "      <td>Private room</td>\n",
       "      <td>1.0</td>\n",
       "      <td>2.0</td>\n",
       "      <td>2.0</td>\n",
       "      <td>['email', 'phone', 'reviews', 'offline_governm...</td>\n",
       "      <td>2008-09-07</td>\n",
       "      <td>7</td>\n",
       "      <td>9</td>\n",
       "      <td>36</td>\n",
       "      <td>2008</td>\n",
       "    </tr>\n",
       "    <tr>\n",
       "      <th>17425</th>\n",
       "      <td>2008-09-07</td>\n",
       "      <td>New York, New York, United States</td>\n",
       "      <td>84.00</td>\n",
       "      <td>Private room</td>\n",
       "      <td>1.0</td>\n",
       "      <td>7.0</td>\n",
       "      <td>7.0</td>\n",
       "      <td>['email', 'phone', 'reviews', 'kba']</td>\n",
       "      <td>2008-09-07</td>\n",
       "      <td>7</td>\n",
       "      <td>9</td>\n",
       "      <td>36</td>\n",
       "      <td>2008</td>\n",
       "    </tr>\n",
       "    <tr>\n",
       "      <th>18680</th>\n",
       "      <td>2008-09-07</td>\n",
       "      <td>New York, New York, United States</td>\n",
       "      <td>95.00</td>\n",
       "      <td>Private room</td>\n",
       "      <td>1.0</td>\n",
       "      <td>2.0</td>\n",
       "      <td>2.0</td>\n",
       "      <td>['email', 'phone', 'reviews', 'offline_governm...</td>\n",
       "      <td>2008-09-07</td>\n",
       "      <td>7</td>\n",
       "      <td>9</td>\n",
       "      <td>36</td>\n",
       "      <td>2008</td>\n",
       "    </tr>\n",
       "    <tr>\n",
       "      <th>24227</th>\n",
       "      <td>2008-08-22</td>\n",
       "      <td>New York, New York, United States</td>\n",
       "      <td>120.00</td>\n",
       "      <td>Entire home/apt</td>\n",
       "      <td>2.0</td>\n",
       "      <td>0.0</td>\n",
       "      <td>0.0</td>\n",
       "      <td>['email', 'phone', 'reviews', 'jumio', 'offlin...</td>\n",
       "      <td>2008-08-22</td>\n",
       "      <td>22</td>\n",
       "      <td>8</td>\n",
       "      <td>34</td>\n",
       "      <td>2008</td>\n",
       "    </tr>\n",
       "    <tr>\n",
       "      <th>43506</th>\n",
       "      <td>2008-09-07</td>\n",
       "      <td>New York, New York, United States</td>\n",
       "      <td>112.00</td>\n",
       "      <td>Entire home/apt</td>\n",
       "      <td>2.0</td>\n",
       "      <td>2.0</td>\n",
       "      <td>2.0</td>\n",
       "      <td>['email', 'phone', 'reviews', 'offline_governm...</td>\n",
       "      <td>2008-09-07</td>\n",
       "      <td>7</td>\n",
       "      <td>9</td>\n",
       "      <td>36</td>\n",
       "      <td>2008</td>\n",
       "    </tr>\n",
       "    <tr>\n",
       "      <th>43676</th>\n",
       "      <td>2008-09-07</td>\n",
       "      <td>New York, New York, United States</td>\n",
       "      <td>149.00</td>\n",
       "      <td>Entire home/apt</td>\n",
       "      <td>4.0</td>\n",
       "      <td>7.0</td>\n",
       "      <td>7.0</td>\n",
       "      <td>['email', 'phone', 'reviews', 'kba']</td>\n",
       "      <td>2008-09-07</td>\n",
       "      <td>7</td>\n",
       "      <td>9</td>\n",
       "      <td>36</td>\n",
       "      <td>2008</td>\n",
       "    </tr>\n",
       "  </tbody>\n",
       "</table>\n",
       "</div>"
      ],
      "text/plain": [
       "      host_since                      host_location   price        room_type  \\\n",
       "1     2008-12-07  New York, New York, United States   76.00  Entire home/apt   \n",
       "50    2008-11-19  New York, New York, United States   79.00     Private room   \n",
       "537   2008-10-14  New York, New York, United States   96.00  Entire home/apt   \n",
       "1145  2008-10-14  New York, New York, United States   99.00  Entire home/apt   \n",
       "1896  2008-08-27  Brooklyn, New York, United States  111.00  Entire home/apt   \n",
       "2793  2008-12-12  New York, New York, United States  139.00  Entire home/apt   \n",
       "4641  2008-10-10  New York, New York, United States   35.00     Private room   \n",
       "6419  2008-09-10                 Brooklyn, New York   43.00     Private room   \n",
       "6771  2008-09-10                 Brooklyn, New York   36.86     Private room   \n",
       "8488  2008-09-07  New York, New York, United States   84.00     Private room   \n",
       "11105 2008-09-07  New York, New York, United States   84.00     Private room   \n",
       "11196 2008-09-07  New York, New York, United States   84.00      Shared room   \n",
       "11197 2008-09-07  New York, New York, United States   84.00     Private room   \n",
       "11426 2008-09-07  New York, New York, United States   84.00      Shared room   \n",
       "13482 2008-09-10  New York, New York, United States   60.00  Entire home/apt   \n",
       "14404 2008-11-19  New York, New York, United States   89.00     Private room   \n",
       "16611 2008-09-07  New York, New York, United States   95.00     Private room   \n",
       "17425 2008-09-07  New York, New York, United States   84.00     Private room   \n",
       "18680 2008-09-07  New York, New York, United States   95.00     Private room   \n",
       "24227 2008-08-22  New York, New York, United States  120.00  Entire home/apt   \n",
       "43506 2008-09-07  New York, New York, United States  112.00  Entire home/apt   \n",
       "43676 2008-09-07  New York, New York, United States  149.00  Entire home/apt   \n",
       "\n",
       "       bedrooms  host_listings_count  host_total_listings_count  \\\n",
       "1           1.0                  1.0                        1.0   \n",
       "50          1.0                  3.0                        3.0   \n",
       "537         1.0                  4.0                        4.0   \n",
       "1145        1.0                  4.0                        4.0   \n",
       "1896        3.0                  1.0                        1.0   \n",
       "2793        1.0                  1.0                        1.0   \n",
       "4641        1.0                  1.0                        1.0   \n",
       "6419        1.0                  2.0                        2.0   \n",
       "6771        1.0                  2.0                        2.0   \n",
       "8488        1.0                  7.0                        7.0   \n",
       "11105       1.0                  7.0                        7.0   \n",
       "11196       1.0                  7.0                        7.0   \n",
       "11197       1.0                  7.0                        7.0   \n",
       "11426       1.0                  7.0                        7.0   \n",
       "13482       1.0                  1.0                        1.0   \n",
       "14404       1.0                  3.0                        3.0   \n",
       "16611       1.0                  2.0                        2.0   \n",
       "17425       1.0                  7.0                        7.0   \n",
       "18680       1.0                  2.0                        2.0   \n",
       "24227       2.0                  0.0                        0.0   \n",
       "43506       2.0                  2.0                        2.0   \n",
       "43676       4.0                  7.0                        7.0   \n",
       "\n",
       "                                      host_verifications        Date  Day  \\\n",
       "1      ['email', 'phone', 'reviews', 'offline_governm...  2008-12-07    7   \n",
       "50     ['email', 'phone', 'facebook', 'reviews', 'jum...  2008-11-19   19   \n",
       "537    ['email', 'phone', 'facebook', 'reviews', 'kba...  2008-10-14   14   \n",
       "1145   ['email', 'phone', 'facebook', 'reviews', 'kba...  2008-10-14   14   \n",
       "1896   ['email', 'phone', 'reviews', 'jumio', 'offlin...  2008-08-27   27   \n",
       "2793   ['email', 'phone', 'reviews', 'jumio', 'kba', ...  2008-12-12   12   \n",
       "4641    ['email', 'phone', 'facebook', 'reviews', 'kba']  2008-10-10   10   \n",
       "6419   ['email', 'phone', 'facebook', 'reviews', 'off...  2008-09-10   10   \n",
       "6771   ['email', 'phone', 'facebook', 'reviews', 'off...  2008-09-10   10   \n",
       "8488                ['email', 'phone', 'reviews', 'kba']  2008-09-07    7   \n",
       "11105               ['email', 'phone', 'reviews', 'kba']  2008-09-07    7   \n",
       "11196               ['email', 'phone', 'reviews', 'kba']  2008-09-07    7   \n",
       "11197               ['email', 'phone', 'reviews', 'kba']  2008-09-07    7   \n",
       "11426               ['email', 'phone', 'reviews', 'kba']  2008-09-07    7   \n",
       "13482                      ['email', 'phone', 'reviews']  2008-09-10   10   \n",
       "14404  ['email', 'phone', 'facebook', 'reviews', 'jum...  2008-11-19   19   \n",
       "16611  ['email', 'phone', 'reviews', 'offline_governm...  2008-09-07    7   \n",
       "17425               ['email', 'phone', 'reviews', 'kba']  2008-09-07    7   \n",
       "18680  ['email', 'phone', 'reviews', 'offline_governm...  2008-09-07    7   \n",
       "24227  ['email', 'phone', 'reviews', 'jumio', 'offlin...  2008-08-22   22   \n",
       "43506  ['email', 'phone', 'reviews', 'offline_governm...  2008-09-07    7   \n",
       "43676               ['email', 'phone', 'reviews', 'kba']  2008-09-07    7   \n",
       "\n",
       "       Month  week  year  \n",
       "1         12    49  2008  \n",
       "50        11    47  2008  \n",
       "537       10    42  2008  \n",
       "1145      10    42  2008  \n",
       "1896       8    35  2008  \n",
       "2793      12    50  2008  \n",
       "4641      10    41  2008  \n",
       "6419       9    37  2008  \n",
       "6771       9    37  2008  \n",
       "8488       9    36  2008  \n",
       "11105      9    36  2008  \n",
       "11196      9    36  2008  \n",
       "11197      9    36  2008  \n",
       "11426      9    36  2008  \n",
       "13482      9    37  2008  \n",
       "14404     11    47  2008  \n",
       "16611      9    36  2008  \n",
       "17425      9    36  2008  \n",
       "18680      9    36  2008  \n",
       "24227      8    34  2008  \n",
       "43506      9    36  2008  \n",
       "43676      9    36  2008  "
      ]
     },
     "execution_count": 46,
     "metadata": {},
     "output_type": "execute_result"
    }
   ],
   "source": [
    "seas[seas['year'] == 2008]"
   ]
  },
  {
   "cell_type": "code",
   "execution_count": 47,
   "metadata": {},
   "outputs": [],
   "source": [
    "roomtype=seas[['room_type','year']].groupby(['year','room_type'])['room_type'].size().unstack(fill_value=0)"
   ]
  },
  {
   "cell_type": "code",
   "execution_count": 48,
   "metadata": {},
   "outputs": [
    {
     "data": {
      "text/html": [
       "<div>\n",
       "<style scoped>\n",
       "    .dataframe tbody tr th:only-of-type {\n",
       "        vertical-align: middle;\n",
       "    }\n",
       "\n",
       "    .dataframe tbody tr th {\n",
       "        vertical-align: top;\n",
       "    }\n",
       "\n",
       "    .dataframe thead th {\n",
       "        text-align: right;\n",
       "    }\n",
       "</style>\n",
       "<table border=\"1\" class=\"dataframe\">\n",
       "  <thead>\n",
       "    <tr style=\"text-align: right;\">\n",
       "      <th>room_type</th>\n",
       "      <th>Entire home/apt</th>\n",
       "      <th>Hotel room</th>\n",
       "      <th>Private room</th>\n",
       "      <th>Shared room</th>\n",
       "    </tr>\n",
       "    <tr>\n",
       "      <th>year</th>\n",
       "      <th></th>\n",
       "      <th></th>\n",
       "      <th></th>\n",
       "      <th></th>\n",
       "    </tr>\n",
       "  </thead>\n",
       "  <tbody>\n",
       "    <tr>\n",
       "      <th>2008</th>\n",
       "      <td>9</td>\n",
       "      <td>0</td>\n",
       "      <td>11</td>\n",
       "      <td>2</td>\n",
       "    </tr>\n",
       "    <tr>\n",
       "      <th>2009</th>\n",
       "      <td>153</td>\n",
       "      <td>0</td>\n",
       "      <td>92</td>\n",
       "      <td>5</td>\n",
       "    </tr>\n",
       "    <tr>\n",
       "      <th>2010</th>\n",
       "      <td>485</td>\n",
       "      <td>0</td>\n",
       "      <td>287</td>\n",
       "      <td>10</td>\n",
       "    </tr>\n",
       "    <tr>\n",
       "      <th>2011</th>\n",
       "      <td>1354</td>\n",
       "      <td>4</td>\n",
       "      <td>817</td>\n",
       "      <td>19</td>\n",
       "    </tr>\n",
       "    <tr>\n",
       "      <th>2012</th>\n",
       "      <td>2164</td>\n",
       "      <td>2</td>\n",
       "      <td>1526</td>\n",
       "      <td>39</td>\n",
       "    </tr>\n",
       "    <tr>\n",
       "      <th>2013</th>\n",
       "      <td>2576</td>\n",
       "      <td>0</td>\n",
       "      <td>2009</td>\n",
       "      <td>74</td>\n",
       "    </tr>\n",
       "    <tr>\n",
       "      <th>2014</th>\n",
       "      <td>3003</td>\n",
       "      <td>10</td>\n",
       "      <td>2987</td>\n",
       "      <td>85</td>\n",
       "    </tr>\n",
       "    <tr>\n",
       "      <th>2015</th>\n",
       "      <td>2829</td>\n",
       "      <td>8</td>\n",
       "      <td>3286</td>\n",
       "      <td>191</td>\n",
       "    </tr>\n",
       "    <tr>\n",
       "      <th>2016</th>\n",
       "      <td>2384</td>\n",
       "      <td>3</td>\n",
       "      <td>2666</td>\n",
       "      <td>107</td>\n",
       "    </tr>\n",
       "    <tr>\n",
       "      <th>2017</th>\n",
       "      <td>1407</td>\n",
       "      <td>22</td>\n",
       "      <td>1969</td>\n",
       "      <td>92</td>\n",
       "    </tr>\n",
       "    <tr>\n",
       "      <th>2018</th>\n",
       "      <td>1300</td>\n",
       "      <td>48</td>\n",
       "      <td>1814</td>\n",
       "      <td>116</td>\n",
       "    </tr>\n",
       "    <tr>\n",
       "      <th>2019</th>\n",
       "      <td>1524</td>\n",
       "      <td>236</td>\n",
       "      <td>2137</td>\n",
       "      <td>158</td>\n",
       "    </tr>\n",
       "    <tr>\n",
       "      <th>2020</th>\n",
       "      <td>493</td>\n",
       "      <td>0</td>\n",
       "      <td>667</td>\n",
       "      <td>43</td>\n",
       "    </tr>\n",
       "  </tbody>\n",
       "</table>\n",
       "</div>"
      ],
      "text/plain": [
       "room_type  Entire home/apt  Hotel room  Private room  Shared room\n",
       "year                                                             \n",
       "2008                     9           0            11            2\n",
       "2009                   153           0            92            5\n",
       "2010                   485           0           287           10\n",
       "2011                  1354           4           817           19\n",
       "2012                  2164           2          1526           39\n",
       "2013                  2576           0          2009           74\n",
       "2014                  3003          10          2987           85\n",
       "2015                  2829           8          3286          191\n",
       "2016                  2384           3          2666          107\n",
       "2017                  1407          22          1969           92\n",
       "2018                  1300          48          1814          116\n",
       "2019                  1524         236          2137          158\n",
       "2020                   493           0           667           43"
      ]
     },
     "execution_count": 48,
     "metadata": {},
     "output_type": "execute_result"
    }
   ],
   "source": [
    "roomtype"
   ]
  },
  {
   "cell_type": "code",
   "execution_count": 49,
   "metadata": {},
   "outputs": [],
   "source": [
    "countye=seas['year'].value_counts()"
   ]
  },
  {
   "cell_type": "code",
   "execution_count": 50,
   "metadata": {},
   "outputs": [],
   "source": [
    "countyrdf = pd.DataFrame(countye)"
   ]
  },
  {
   "cell_type": "code",
   "execution_count": 51,
   "metadata": {},
   "outputs": [],
   "source": [
    "countyrdf=countyrdf.reset_index()"
   ]
  },
  {
   "cell_type": "code",
   "execution_count": 52,
   "metadata": {},
   "outputs": [],
   "source": [
    "countyrdf.columns = ['year','count']"
   ]
  },
  {
   "cell_type": "code",
   "execution_count": 53,
   "metadata": {},
   "outputs": [],
   "source": [
    "demand=pd.merge(countyrdf, yeapri, on=\"year\")"
   ]
  },
  {
   "cell_type": "code",
   "execution_count": 54,
   "metadata": {},
   "outputs": [
    {
     "data": {
      "text/plain": [
       "year\n",
       "2008      1938.86\n",
       "2009     36576.63\n",
       "2010    118401.93\n",
       "2011    387666.57\n",
       "2012    563697.98\n",
       "2013    724334.06\n",
       "2014    867862.29\n",
       "2015    824572.30\n",
       "2016    733759.25\n",
       "2017    441999.24\n",
       "2018    628270.53\n",
       "2019    651790.05\n",
       "2020    164112.78\n",
       "Name: price, dtype: float64"
      ]
     },
     "execution_count": 54,
     "metadata": {},
     "output_type": "execute_result"
    }
   ],
   "source": [
    "seas.groupby([\"year\"])[\"price\"].sum()"
   ]
  },
  {
   "cell_type": "code",
   "execution_count": 55,
   "metadata": {},
   "outputs": [
    {
     "data": {
      "text/html": [
       "<div>\n",
       "<style scoped>\n",
       "    .dataframe tbody tr th:only-of-type {\n",
       "        vertical-align: middle;\n",
       "    }\n",
       "\n",
       "    .dataframe tbody tr th {\n",
       "        vertical-align: top;\n",
       "    }\n",
       "\n",
       "    .dataframe thead th {\n",
       "        text-align: right;\n",
       "    }\n",
       "</style>\n",
       "<table border=\"1\" class=\"dataframe\">\n",
       "  <thead>\n",
       "    <tr style=\"text-align: right;\">\n",
       "      <th></th>\n",
       "      <th>year</th>\n",
       "      <th>count</th>\n",
       "      <th>price</th>\n",
       "    </tr>\n",
       "  </thead>\n",
       "  <tbody>\n",
       "    <tr>\n",
       "      <th>0</th>\n",
       "      <td>2015</td>\n",
       "      <td>6314</td>\n",
       "      <td>824572.30</td>\n",
       "    </tr>\n",
       "    <tr>\n",
       "      <th>1</th>\n",
       "      <td>2014</td>\n",
       "      <td>6085</td>\n",
       "      <td>867862.29</td>\n",
       "    </tr>\n",
       "    <tr>\n",
       "      <th>2</th>\n",
       "      <td>2016</td>\n",
       "      <td>5160</td>\n",
       "      <td>733759.25</td>\n",
       "    </tr>\n",
       "    <tr>\n",
       "      <th>3</th>\n",
       "      <td>2013</td>\n",
       "      <td>4659</td>\n",
       "      <td>724334.06</td>\n",
       "    </tr>\n",
       "    <tr>\n",
       "      <th>4</th>\n",
       "      <td>2019</td>\n",
       "      <td>4055</td>\n",
       "      <td>651790.05</td>\n",
       "    </tr>\n",
       "    <tr>\n",
       "      <th>5</th>\n",
       "      <td>2012</td>\n",
       "      <td>3731</td>\n",
       "      <td>563697.98</td>\n",
       "    </tr>\n",
       "    <tr>\n",
       "      <th>6</th>\n",
       "      <td>2017</td>\n",
       "      <td>3490</td>\n",
       "      <td>441999.24</td>\n",
       "    </tr>\n",
       "    <tr>\n",
       "      <th>7</th>\n",
       "      <td>2018</td>\n",
       "      <td>3278</td>\n",
       "      <td>628270.53</td>\n",
       "    </tr>\n",
       "    <tr>\n",
       "      <th>8</th>\n",
       "      <td>2011</td>\n",
       "      <td>2194</td>\n",
       "      <td>387666.57</td>\n",
       "    </tr>\n",
       "    <tr>\n",
       "      <th>9</th>\n",
       "      <td>2020</td>\n",
       "      <td>1203</td>\n",
       "      <td>164112.78</td>\n",
       "    </tr>\n",
       "    <tr>\n",
       "      <th>10</th>\n",
       "      <td>2010</td>\n",
       "      <td>782</td>\n",
       "      <td>118401.93</td>\n",
       "    </tr>\n",
       "    <tr>\n",
       "      <th>11</th>\n",
       "      <td>2009</td>\n",
       "      <td>250</td>\n",
       "      <td>36576.63</td>\n",
       "    </tr>\n",
       "    <tr>\n",
       "      <th>12</th>\n",
       "      <td>2008</td>\n",
       "      <td>22</td>\n",
       "      <td>1938.86</td>\n",
       "    </tr>\n",
       "  </tbody>\n",
       "</table>\n",
       "</div>"
      ],
      "text/plain": [
       "    year  count      price\n",
       "0   2015   6314  824572.30\n",
       "1   2014   6085  867862.29\n",
       "2   2016   5160  733759.25\n",
       "3   2013   4659  724334.06\n",
       "4   2019   4055  651790.05\n",
       "5   2012   3731  563697.98\n",
       "6   2017   3490  441999.24\n",
       "7   2018   3278  628270.53\n",
       "8   2011   2194  387666.57\n",
       "9   2020   1203  164112.78\n",
       "10  2010    782  118401.93\n",
       "11  2009    250   36576.63\n",
       "12  2008     22    1938.86"
      ]
     },
     "execution_count": 55,
     "metadata": {},
     "output_type": "execute_result"
    }
   ],
   "source": [
    "demand"
   ]
  },
  {
   "cell_type": "markdown",
   "metadata": {},
   "source": [
    "## Year vs revenue bar plot"
   ]
  },
  {
   "cell_type": "code",
   "execution_count": 56,
   "metadata": {},
   "outputs": [],
   "source": [
    "import seaborn as sns\n",
    "\n",
    "\n",
    "sns.set()"
   ]
  },
  {
   "cell_type": "code",
   "execution_count": 57,
   "metadata": {},
   "outputs": [
    {
     "data": {
      "text/plain": [
       "<matplotlib.axes._subplots.AxesSubplot at 0x21b81639460>"
      ]
     },
     "execution_count": 57,
     "metadata": {},
     "output_type": "execute_result"
    },
    {
     "data": {
      "image/png": "[encoded data removed]",
      "text/plain": [
       "<Figure size 1080x720 with 1 Axes>"
      ]
     },
     "metadata": {},
     "output_type": "display_data"
    }
   ],
   "source": [
    "plt.figure(figsize=(15,10))\n",
    "sns.barplot(x = 'year', y = 'count',hue= 'year', data = demand)\n",
    " \n",
    "# Show the plot"
   ]
  },
  {
   "cell_type": "markdown",
   "metadata": {},
   "source": [
    "Sales over time of each item is a time-series. Time series is a collection of data points that are collected at constant time intervals."
   ]
  },
  {
   "cell_type": "code",
   "execution_count": 58,
   "metadata": {},
   "outputs": [
    {
     "data": {
      "image/png": "[encoded data removed]",
      "text/plain": [
       "<Figure size 1152x576 with 1 Axes>"
      ]
     },
     "metadata": {},
     "output_type": "display_data"
    }
   ],
   "source": [
    "tss=seas.groupby([\"year\"])[\"price\"].sum()\n",
    "tss.astype('float')\n",
    "plt.figure(figsize=(16,8))\n",
    "plt.title('Revenue generated through years')\n",
    "plt.xlabel('Time')\n",
    "plt.ylabel('Revenue')\n",
    "plt.plot(tss);"
   ]
  },
  {
   "cell_type": "markdown",
   "metadata": {},
   "source": [
    "There is an exponential growth in revenue and demand since 2015 and had a drop in year 2017 and 2020.\n",
    "It can be visualize from the image that as demand (Number of listing increases), prices (Revenue increases)\n",
    "\n",
    "*This means time series data has seasonality variation.\n",
    "\n",
    "There is three basic criteria to check whether the time series data is stationary series or not.\n",
    "\n",
    " :If mean doesn't changes with time.\n",
    " :Variance of a series should not be a function of time.\n",
    " :Autocovariance that does not depend on time. Autocovariance is covariance between time series and lagged time series."
   ]
  },
  {
   "cell_type": "code",
   "execution_count": 59,
   "metadata": {},
   "outputs": [
    {
     "data": {
      "image/png": "[encoded data removed]",
      "text/plain": [
       "<Figure size 1152x432 with 1 Axes>"
      ]
     },
     "metadata": {},
     "output_type": "display_data"
    }
   ],
   "source": [
    "plt.figure(figsize=(16,6))\n",
    "plt.plot(tss.rolling(window=4,center=False).mean(),label='Rolling Mean');\n",
    "plt.plot(tss.rolling(window=4,center=False).std(),label='Rolling sd');\n",
    "plt.legend();"
   ]
  },
  {
   "cell_type": "markdown",
   "metadata": {},
   "source": [
    "According to above figure it is seen that data has seasonal variation.\n",
    "\n",
    "Checking a quick decomposition into Trend, seasonality and residuals.\n",
    "\n",
    " :Level: The average value in the series.\n",
    " :Trend: The increasing or decreasing value in the series.\n",
    " :Seasonality: The repeating short-term cycle in the series. *decompositon has - level, trends and seasonality"
   ]
  },
  {
   "cell_type": "markdown",
   "metadata": {},
   "source": [
    "## Multiplicative is a non linear model and it increases and decreases over the time."
   ]
  },
  {
   "cell_type": "code",
   "execution_count": 60,
   "metadata": {},
   "outputs": [
    {
     "name": "stderr",
     "output_type": "stream",
     "text": [
      "<ipython-input-60-0508330f230e>:3: FutureWarning: the 'freq'' keyword is deprecated, use 'period' instead\n",
      "  res = sm.tsa.seasonal_decompose(tss.values,freq=4,model=\"multiplicative\")\n"
     ]
    },
    {
     "data": {
      "image/png": "[encoded data removed]",
      "text/plain": [
       "<Figure size 432x288 with 4 Axes>"
      ]
     },
     "metadata": {},
     "output_type": "display_data"
    }
   ],
   "source": [
    "import statsmodels.api as sm\n",
    "# multiplicative is a non linear model and it increases and decreases over the time. \n",
    "res = sm.tsa.seasonal_decompose(tss.values,freq=4,model=\"multiplicative\")\n",
    "#plt.figure(figsize=(16,12))\n",
    "fig = res.plot()\n",
    "#fig.show()\n",
    "#A nonlinear trend is a curved line."
   ]
  },
  {
   "cell_type": "markdown",
   "metadata": {},
   "source": [
    "## Additive is a linear model and it does not increases and decreases over the time."
   ]
  },
  {
   "cell_type": "code",
   "execution_count": 61,
   "metadata": {},
   "outputs": [
    {
     "name": "stderr",
     "output_type": "stream",
     "text": [
      "<ipython-input-61-ad7507b9cef6>:3: FutureWarning: the 'freq'' keyword is deprecated, use 'period' instead\n",
      "  res = sm.tsa.seasonal_decompose(tss.values,freq=4,model=\"additive\")\n"
     ]
    },
    {
     "data": {
      "image/png": "[encoded data removed]",
      "text/plain": [
       "<Figure size 432x288 with 4 Axes>"
      ]
     },
     "metadata": {},
     "output_type": "display_data"
    }
   ],
   "source": [
    "import statsmodels.api as sm\n",
    "# additive is a linear model and it does not increases and decreases over the time. \n",
    "res = sm.tsa.seasonal_decompose(tss.values,freq=4,model=\"additive\")\n",
    "#plt.figure(figsize=(16,12))\n",
    "fig = res.plot()\n",
    "#fig.show()\n",
    "#A linear trend should be straight line."
   ]
  },
  {
   "cell_type": "markdown",
   "metadata": {},
   "source": [
    "# Forecasting using ARIMA"
   ]
  },
  {
   "cell_type": "markdown",
   "metadata": {},
   "source": [
    "ARIMA models are easier to model if data is stationary.\n",
    "\n",
    "To check the stationarity of time series data, ADF(Augmented Dicky Fuller) test is performed.\n",
    "\n",
    "  :The ADF test comprises of a Test Statistic, p value and 3 Critical Values for difference confidence levels.\n",
    "  \n",
    "Data is said to be stationary if:-\n",
    "\n",
    "  :P-value should be less than alpha value 0.05 (to reject the null hypothesis(H0), i.e the data does not have a unit root and      is stationary.\n",
    "  :If t-statistic is less than the critical value, we can say that time series is stationary."
   ]
  },
  {
   "cell_type": "code",
   "execution_count": 62,
   "metadata": {},
   "outputs": [
    {
     "data": {
      "image/png": "[encoded data removed]",
      "text/plain": [
       "<Figure size 432x288 with 1 Axes>"
      ]
     },
     "metadata": {},
     "output_type": "display_data"
    },
    {
     "name": "stdout",
     "output_type": "stream",
     "text": [
      "Results of Dickey-Fuller Test:\n",
      "Test Statistic                -2.557238\n",
      "p-value                        0.102161\n",
      "#Lags Used                     4.000000\n",
      "Number of Observations Used    8.000000\n",
      "Critical Value (1%)           -4.665186\n",
      "Critical Value (5%)           -3.367187\n",
      "Critical Value (10%)          -2.802961\n",
      "dtype: float64\n",
      "None\n"
     ]
    }
   ],
   "source": [
    "from statsmodels.tsa.stattools import adfuller\n",
    "\n",
    "def stationarycheck(timeseries):   \n",
    "    plt.plot(timeseries.rolling(window=5,center=False).mean(),label='Rolling Mean');\n",
    "    plt.plot(timeseries.rolling(window=5,center=False).std(),label='Rolling sd');\n",
    "\n",
    "    \n",
    "    plt.legend(loc='best')\n",
    "    plt.title('Rolling Mean & Standard Deviation')\n",
    "    plt.show()\n",
    "\n",
    "    print ('Results of Dickey-Fuller Test:')\n",
    "    dftest = adfuller(timeseries, autolag='AIC')\n",
    "    dfoutput = pd.Series(dftest[0:4], index=['Test Statistic','p-value','#Lags Used','Number of Observations Used'])\n",
    "    for key,value in dftest[4].items():\n",
    "        dfoutput['Critical Value (%s)'%key] = value\n",
    "    print (dfoutput)\n",
    "    \n",
    "print(stationarycheck(tss))"
   ]
  },
  {
   "cell_type": "markdown",
   "metadata": {},
   "source": [
    "## rolling mean"
   ]
  },
  {
   "cell_type": "code",
   "execution_count": 63,
   "metadata": {},
   "outputs": [],
   "source": [
    "moving_avg= tss.rolling(window=4).mean()"
   ]
  },
  {
   "cell_type": "code",
   "execution_count": 64,
   "metadata": {},
   "outputs": [],
   "source": [
    "ts_moving_avg_diff = tss - moving_avg\n",
    "ts_moving_avg_diff.dropna(inplace=True) # first 4 is nan value due to window size\\"
   ]
  },
  {
   "cell_type": "code",
   "execution_count": 65,
   "metadata": {},
   "outputs": [
    {
     "data": {
      "image/png": "[encoded data removed]",
      "text/plain": [
       "<Figure size 432x288 with 1 Axes>"
      ]
     },
     "metadata": {},
     "output_type": "display_data"
    },
    {
     "name": "stdout",
     "output_type": "stream",
     "text": [
      "Results of Dickey-Fuller Test:\n",
      "Test Statistic                -0.757273\n",
      "p-value                        0.831352\n",
      "#Lags Used                     0.000000\n",
      "Number of Observations Used    9.000000\n",
      "Critical Value (1%)           -4.473135\n",
      "Critical Value (5%)           -3.289881\n",
      "Critical Value (10%)          -2.772382\n",
      "dtype: float64\n",
      "None\n"
     ]
    }
   ],
   "source": [
    "print(stationarycheck(ts_moving_avg_diff))"
   ]
  },
  {
   "cell_type": "markdown",
   "metadata": {},
   "source": [
    "## Differencing Method"
   ]
  },
  {
   "cell_type": "code",
   "execution_count": 66,
   "metadata": {},
   "outputs": [],
   "source": [
    "ts_diff = tss - tss.shift()\n",
    "ts_diff.dropna(inplace=True)"
   ]
  },
  {
   "cell_type": "code",
   "execution_count": 67,
   "metadata": {},
   "outputs": [
    {
     "data": {
      "image/png": "[encoded data removed]",
      "text/plain": [
       "<Figure size 432x288 with 1 Axes>"
      ]
     },
     "metadata": {},
     "output_type": "display_data"
    },
    {
     "name": "stdout",
     "output_type": "stream",
     "text": [
      "Results of Dickey-Fuller Test:\n",
      "Test Statistic                 -1.453820\n",
      "p-value                         0.556220\n",
      "#Lags Used                      0.000000\n",
      "Number of Observations Used    11.000000\n",
      "Critical Value (1%)            -4.223238\n",
      "Critical Value (5%)            -3.189369\n",
      "Critical Value (10%)           -2.729839\n",
      "dtype: float64\n",
      "None\n"
     ]
    }
   ],
   "source": [
    "print(stationarycheck(ts_diff))"
   ]
  },
  {
   "cell_type": "markdown",
   "metadata": {},
   "source": [
    "# Arima is Auto-Regressive Integrated Moving Averages\n",
    "\n",
    "  :AR (Auto Regressive) p: Specifies that the evolving variable regresses at its own prior(lag) values.\n",
    "  :I (Integrated) d :It indicates the number of nonseasonal differences i.e data values are replaced with the difference between    their values and the previous values.\n",
    "  :MA(Moving average) q: MA terms are lagged forecast errors in prediction equation.\n",
    "  \n",
    "ARIMA\n",
    "\n",
    "ACF(Auto-correlation factor) and PACF(Partial auto-correlation factor)\n",
    "\n",
    "\n",
    "(p,d,q) are the parameters of ARIMA model.\n",
    "\n",
    "To choose p,d,q we will plot two different plots ACF(Auto-Correlation Factor) and PACF(Partial Auto-Correlation Factor)\n",
    "  :ACF -The coefficient of correlation between two values in a time series is called the autocorrelation function.\n",
    "  :PACF -Describes the direct relationship between an observation and its lag. This would suggest that there would be no            correlation for lag values beyond k"
   ]
  },
  {
   "cell_type": "code",
   "execution_count": 68,
   "metadata": {},
   "outputs": [
    {
     "name": "stderr",
     "output_type": "stream",
     "text": [
      "C:\\Users\\AVSMo\\anaconda3\\lib\\site-packages\\statsmodels\\tsa\\stattools.py:568: FutureWarning: fft=True will become the default in a future version of statsmodels. To suppress this warning, explicitly set fft=False.\n",
      "  warnings.warn(\n"
     ]
    },
    {
     "data": {
      "image/png": "[encoded data removed]",
      "text/plain": [
       "<Figure size 1584x720 with 2 Axes>"
      ]
     },
     "metadata": {},
     "output_type": "display_data"
    }
   ],
   "source": [
    "from statsmodels.tsa.stattools import acf, pacf\n",
    "lag_acf = acf(ts_diff, nlags=5)\n",
    "lag_pacf = pacf(ts_diff, nlags=5, method='ols')\n",
    "# ACF\n",
    "plt.figure(figsize=(22,10))\n",
    "\n",
    "plt.subplot(121) \n",
    "plt.plot(lag_acf)\n",
    "plt.axhline(y=0,linestyle='--',color='gray')\n",
    "plt.axhline(y=-1.96/np.sqrt(len(ts_moving_avg_diff)),linestyle='--',color='gray')\n",
    "plt.axhline(y=1.96/np.sqrt(len(ts_moving_avg_diff)),linestyle='--',color='gray')\n",
    "plt.title('Autocorrelation Function')\n",
    "\n",
    "# PACF\n",
    "plt.subplot(122)\n",
    "plt.plot(lag_pacf)\n",
    "plt.axhline(y=0,linestyle='--',color='gray')\n",
    "plt.axhline(y=-1.96/np.sqrt(len(ts_moving_avg_diff)),linestyle='--',color='gray')\n",
    "plt.axhline(y=1.96/np.sqrt(len(ts_moving_avg_diff)),linestyle='--',color='gray')\n",
    "plt.title('Partial Autocorrelation Function')\n",
    "plt.tight_layout()"
   ]
  },
  {
   "cell_type": "markdown",
   "metadata": {},
   "source": [
    "## Modelling data using ARIMA"
   ]
  },
  {
   "cell_type": "code",
   "execution_count": 69,
   "metadata": {},
   "outputs": [
    {
     "name": "stderr",
     "output_type": "stream",
     "text": [
      "C:\\Users\\AVSMo\\anaconda3\\lib\\site-packages\\statsmodels\\tsa\\base\\tsa_model.py:213: ValueWarning: An unsupported index was provided and will be ignored when e.g. forecasting.\n",
      "  warnings.warn('An unsupported index was provided and will be'\n"
     ]
    }
   ],
   "source": [
    "from statsmodels.tsa.arima_model import ARIMA\n",
    "from sklearn.metrics import mean_squared_error\n",
    "import math\n",
    "from math import sqrt\n",
    "# fit model\n",
    "model2 = ARIMA(tss, order=(0,0,1)) \n",
    "model_fit2 = model2.fit(disp=0)\n",
    "forecast2 = model_fit2.predict()"
   ]
  },
  {
   "cell_type": "markdown",
   "metadata": {},
   "source": [
    "## Perdicted vs original data Graph"
   ]
  },
  {
   "cell_type": "code",
   "execution_count": 70,
   "metadata": {},
   "outputs": [
    {
     "data": {
      "image/png": "[encoded data removed]",
      "text/plain": [
       "<Figure size 1584x720 with 1 Axes>"
      ]
     },
     "metadata": {},
     "output_type": "display_data"
    }
   ],
   "source": [
    "plt.figure(figsize=(22,10))\n",
    "plt.plot(tss,label = \"original\")\n",
    "plt.plot(forecast2,label = \"predicted\")\n",
    "plt.title(\"Time Series Forecast\")\n",
    "plt.xlabel(\"Month no\")\n",
    "plt.ylabel(\"Sales revenue\")\n",
    "plt.legend()\n",
    "plt.savefig('graphsmall.png')\n",
    "\n",
    "plt.show()"
   ]
  },
  {
   "cell_type": "markdown",
   "metadata": {},
   "source": [
    "## Caluculating error using mean square error"
   ]
  },
  {
   "cell_type": "code",
   "execution_count": 71,
   "metadata": {},
   "outputs": [
    {
     "name": "stdout",
     "output_type": "stream",
     "text": [
      "error:  46442727292.87404\n",
      "RMSE:  215505.74770264025\n",
      "MAPE: 39.255459\n"
     ]
    }
   ],
   "source": [
    "error = mean_squared_error(tss, forecast2)\n",
    "rmse = sqrt(error)\n",
    "\n",
    "print(\"error: \" ,error)\n",
    "print(\"RMSE: \",rmse)\n",
    "#MAPE\n",
    "num= abs(forecast2-tss).sum()\n",
    "d= abs(tss).sum()\n",
    "\n",
    "mape = (num/d)*100\n",
    "print('MAPE: %3f' %mape)"
   ]
  },
  {
   "cell_type": "markdown",
   "metadata": {},
   "source": [
    "## Accuracy"
   ]
  },
  {
   "cell_type": "code",
   "execution_count": 72,
   "metadata": {},
   "outputs": [],
   "source": [
    "Accuracy = 100-mape"
   ]
  },
  {
   "cell_type": "code",
   "execution_count": 73,
   "metadata": {},
   "outputs": [
    {
     "data": {
      "text/plain": [
       "60.74454118240984"
      ]
     },
     "execution_count": 73,
     "metadata": {},
     "output_type": "execute_result"
    }
   ],
   "source": [
    "Accuracy"
   ]
  }
 ],
 "metadata": {
  "kernelspec": {
   "display_name": "Python 3",
   "language": "python",
   "name": "python3"
  },
  "language_info": {
   "codemirror_mode": {
    "name": "ipython",
    "version": 3
   },
   "file_extension": ".py",
   "mimetype": "text/x-python",
   "name": "python",
   "nbconvert_exporter": "python",
   "pygments_lexer": "ipython3",
   "version": "3.7.9"
  }
 },
 "nbformat": 4,
 "nbformat_minor": 4
}
